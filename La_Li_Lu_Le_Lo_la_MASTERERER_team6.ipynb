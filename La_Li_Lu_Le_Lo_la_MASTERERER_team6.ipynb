{
  "cells": [
    {
      "cell_type": "markdown",
      "metadata": {
        "id": "pas6BTIBVn5G"
      },
      "source": [
        "#Final Project\n",
        "Project Requirements\n",
        "May 2023\n",
        "\n",
        "\n",
        "Cement Mill Process\n",
        "This is a mimic of the Cement Mill in PECEM Plant in Brazil. This gives an overview of the process\n",
        "of the mill.\n",
        "\n",
        "You can find a more detailed mimic in a separate file accompanied with an excel file which maps\n",
        "the numbers in the mimic with the tag names of the sensor variables.\n",
        "\n",
        "\n",
        "Block 1: Separator Motor Block\n",
        "For analysis purposes the production process can be broken down to several blocks. Each block\n",
        "describes a specific part of the process. For example, the Separator Motor Block gives us the\n",
        "dependence of the energy expenditure of the separator from the input variables. These\n",
        "dependencies have been determined by business knowledge, which means that there might be\n",
        "other dependencies that can be identified by extra analysis.\n",
        "\n",
        "Block 2: Mill Differential Pressure Block\n",
        "\n",
        "\n",
        "Tasks\n",
        "You are given a dataset that contains measurements for a 4-month period from a cement mill\n",
        "plant. There are 2 separate problems that need to be addressed, i.e. the Blocks above. Each of\n",
        "these has a series of inputs (which are the independent variables that should be used) and one\n",
        "output (that will serve as the target variable). These are described in the Figures above.\n",
        "For each of the two blocks:\n",
        "1. Check the dataset for irregularities (e.g. missing or extreme values, values in bad format)\n",
        "and make the appropriate actions if needed.\n",
        "v\n",
        "3. Quantify the delay time (if any) between a variation in the input variables and the\n",
        "outcome effect in the output variable.\n",
        "4. Explore the correlation of the output variable with the input variables using visual and\n",
        "statistical methods and describe the influence on the output variable that a variation of\n",
        "the input values causes.\n",
        "Main Task\n",
        "5. Using the proposed input variables (and any other variable from the received dataset\n",
        "that you think is relevant) create a model that, given the operating conditions of the\n",
        "mill, can predict the output variable for the next 5 minutes, in 30 second intervals.\n",
        "Bonus Tasks\n",
        "6. Investigate if the use of any other variables, not present in the block’s “input variables”,\n",
        "can help.\n",
        "\n",
        "##How Panagiotis this dumb fuck thinks of the task with google , stackoverflow and chatgpt maybe some other AIs\n",
        "    Data Cleaning:\n",
        "        Check the dataset for irregularities such as missing or extreme values and values in bad format.\n",
        "        Take appropriate actions to handle these irregularities, such as removing or imputing missing values and addressing extreme values.\n",
        "\n",
        "    Statistical Analysis:\n",
        "        Understand the main statistical characteristics of the important input and output variables in the dataset.\n",
        "        Use visual and statistical methods to analyze the variables and gain insights into their distributions, central tendencies, and variations.\n",
        "\n",
        "    Delay Time Analysis:\n",
        "        Quantify the delay time, if any, between a variation in the input variables and its effect on the output variable.\n",
        "        Explore how changes in the input variables relate to changes in the output variable over time.\n",
        "\n",
        "    Correlation Analysis:\n",
        "        Explore the correlation between the output variable and the input variables using visual and statistical methods.\n",
        "        Describe the influence of input variable variations on the output variable.\n",
        "\n"
      ]
    },
    {
      "cell_type": "markdown",
      "metadata": {
        "id": "H7UosMm8Vn5Q"
      },
      "source": [
        "# A slider cause i like it this way. Imports!!!!!"
      ]
    },
    {
      "cell_type": "code",
      "execution_count": null,
      "metadata": {
        "id": "lsASk6iYVn5R"
      },
      "outputs": [],
      "source": [
        "#Take what you need add what ever you want box\n",
        "import numpy as np\n",
        "import pandas as pd\n",
        "import seaborn as sns\n",
        "import matplotlib.pyplot as plt\n",
        "from datetime import datetime\n",
        "from scipy.signal import correlate\n",
        "from sklearn.preprocessing import MinMaxScaler\n",
        "import chardet\n",
        "import warnings\n",
        "warnings.filterwarnings(\"ignore\")"
      ]
    },
    {
      "cell_type": "markdown",
      "metadata": {
        "id": "Bw_YR_tEVn5T"
      },
      "source": [
        "# Now L and J we import , now you make the chooice you want it dirty or clean ?\n",
        "\n",
        "1. Local\n",
        "2. funcy cloud bitches"
      ]
    },
    {
      "cell_type": "markdown",
      "metadata": {
        "id": "Q97fcK9ZVn5U"
      },
      "source": [
        "#localo"
      ]
    },
    {
      "cell_type": "code",
      "execution_count": null,
      "metadata": {
        "id": "A_OANY8SVn5V"
      },
      "outputs": [],
      "source": [
        "#Clena\n",
        "\n",
        "df_May = pd.read_csv('May_cleaned.csv', encoding='latin-1')\n",
        "df_June = pd.read_csv(\"June_cleaned.csv\",  encoding='latin-1')\n",
        "df_July = pd.read_csv(\"July_cleaned.csv\",  encoding='latin-1')\n",
        "df_August = pd.read_csv(\"August_cleaned.csv\", encoding='latin-1')\n",
        "df_September = pd.read_csv(\"September_cleaned.csv\", encoding='latin-1')\n",
        "df_October = pd.read_csv(\"October_cleaned.csv\", encoding='latin-1')\n",
        "df_Semester = pd.read_csv(\"Semester_cleaned.csv\", encoding='latin-1')"
      ]
    },
    {
      "cell_type": "code",
      "execution_count": null,
      "metadata": {
        "id": "cG5-Cq3iVn5V"
      },
      "outputs": [],
      "source": [
        "#filthy\n",
        "\n",
        "df_May = pd.read_csv('May.csv', sep=';', encoding='latin-1')\n",
        "df_June = pd.read_csv(\"June.csv\", sep=';', encoding='latin-1')\n",
        "df_July = pd.read_csv(\"July.csv\", sep=';', encoding='latin-1')\n",
        "df_August = pd.read_csv(\"August.csv\", sep=';', encoding='latin-1')\n",
        "df_September = pd.read_csv(\"September.csv\", sep=';', encoding='latin-1')\n",
        "df_October = pd.read_csv(\"October.csv\", sep=';', encoding='latin-1')"
      ]
    },
    {
      "cell_type": "markdown",
      "metadata": {
        "id": "dpKqrcLoVn5X"
      },
      "source": [
        "# cloudo"
      ]
    },
    {
      "cell_type": "code",
      "execution_count": null,
      "metadata": {
        "id": "V3axeTxBVn5Y",
        "colab": {
          "base_uri": "https://localhost:8080/"
        },
        "outputId": "56e303ca-e485-494a-cd61-32244ca6be02"
      },
      "outputs": [
        {
          "output_type": "stream",
          "name": "stdout",
          "text": [
            "Drive already mounted at /content/drive; to attempt to forcibly remount, call drive.mount(\"/content/drive\", force_remount=True).\n"
          ]
        }
      ],
      "source": [
        "# 2. Mount your drive to upload files\n",
        "from google.colab import drive\n",
        "drive.mount('/content/drive')"
      ]
    },
    {
      "cell_type": "code",
      "execution_count": null,
      "metadata": {
        "id": "evZFK7wpVn5Z"
      },
      "outputs": [],
      "source": [
        "#clean\n",
        "\n",
        "df_May = pd.read_csv('/content/drive/MyDrive/May_cleaned.csv', encoding='latin-1')\n",
        "df_June = pd.read_csv(\"/content/drive/MyDrive/June_cleaned.csv\", encoding='latin-1')\n",
        "df_July = pd.read_csv(\"/content/drive/MyDrive/July_cleaned.csv\", encoding='latin-1')\n",
        "df_August = pd.read_csv(\"/content/drive/MyDrive/August_cleaned.csv\", encoding='latin-1')\n",
        "df_September = pd.read_csv(\"/content/drive/MyDrive/September_cleaned.csv\", encoding='latin-1')\n",
        "df_October = pd.read_csv(\"/content/drive/MyDrive/October_cleaned.csv\", encoding='latin-1')\n",
        "df_Semester_noJulySeptember = pd.read_csv(\"/content/drive/MyDrive/Semester_cleaned_noJulySeptember.csv\", encoding='latin-1')"
      ]
    },
    {
      "cell_type": "code",
      "execution_count": null,
      "metadata": {
        "id": "Olk8FZUQVn5a"
      },
      "outputs": [],
      "source": [
        "#filty ass\n",
        "\n",
        "df_May = pd.read_csv('/content/drive/MyDrive/May.csv', sep=';', encoding='latin-1')\n",
        "df_June = pd.read_csv(\"/content/drive/MyDrive/June.csv\", sep=';', encoding='latin-1')\n",
        "df_July = pd.read_csv(\"/content/drive/MyDrive/July.csv\", sep=';', encoding='latin-1')\n",
        "df_August = pd.read_csv(\"/content/drive/MyDrive/August.csv\", sep=',', encoding='latin-1') # check the separator\n",
        "df_September = pd.read_csv(\"/content/drive/MyDrive/September.csv\", sep=';', encoding='latin-1')\n",
        "df_October = pd.read_csv(\"/content/drive/MyDrive/October.csv\", sep=',', encoding='latin-1') # check the separator"
      ]
    },
    {
      "cell_type": "code",
      "source": [
        "#df_May['total_feed_ton/h_pv']\n",
        "#df_June['total_feed_ton/h_pv']\n",
        "df_Semester_noJulySeptember['total_feed_ton/h_pv']\n",
        "#df_August['total_feed_ton/h_pv']\n",
        "\n",
        "#df_October['total_feed_ton/h_pv']"
      ],
      "metadata": {
        "id": "7IyinD64JXnj"
      },
      "execution_count": null,
      "outputs": []
    },
    {
      "cell_type": "markdown",
      "source": [
        "# Functions"
      ],
      "metadata": {
        "id": "eIPkZs5DH-iC"
      }
    },
    {
      "cell_type": "code",
      "source": [
        "def find_name(df, name:str):\n",
        "\n",
        "  matching_columns = [col for col in df if name in col]\n",
        "\n",
        "  return matching_columns"
      ],
      "metadata": {
        "id": "rlGhk0bmIF-n"
      },
      "execution_count": null,
      "outputs": []
    },
    {
      "cell_type": "code",
      "source": [
        "def normal_op(df, column: str, threshold: int):\n",
        "    \"\"\"\n",
        "    Filters the dataframe to keep measurements only during normal machine operation.\n",
        "\n",
        "    Parameters:\n",
        "    - df (pandas.DataFrame): The dataframe containing machine operation data.\n",
        "    - column: The feature you want to filter\n",
        "    - threshold: Value of the filter you want to apply\n",
        "\n",
        "    Returns:\n",
        "    - pandas.DataFrame: The filtered dataframe with measurements during normal operation.\n",
        "    \"\"\"\n",
        "\n",
        "    # Filter the dataframe based on normal operation\n",
        "    filtered_df = df[df[column] > threshold]\n",
        "\n",
        "    return filtered_df"
      ],
      "metadata": {
        "id": "Jz4zX8NkIqu8"
      },
      "execution_count": null,
      "outputs": []
    },
    {
      "cell_type": "code",
      "source": [
        "def visual_delay(df, input:str, output:str, start_time:str, end_time:str, max_delay=20):\n",
        "    \"\"\"\n",
        "    Creates a Delay-Correlation graph.\n",
        "\n",
        "    Parameters:\n",
        "    - df (pandas.DataFrame): The dataframe containing machine operation data.\n",
        "    - input: The feature you want to use as an input\n",
        "    - output: The feature you want to use as an output\n",
        "    - start_time\n",
        "    - end_time\n",
        "    \"\"\"\n",
        "\n",
        "    delays = np.arange(0, max_delay + 1)\n",
        "    correlations = []\n",
        "\n",
        "    for delay in delays:\n",
        "        delayed_data_shifted = np.roll(df[output].values, delay)\n",
        "        correlation = np.corrcoef(df[input].values, delayed_data_shifted)[0, 1]\n",
        "        correlations.append(correlation)\n",
        "\n",
        "    plt.plot(delays, correlations, marker='o')\n",
        "    plt.xlabel('Delay')\n",
        "    plt.ylabel('Correlation')\n",
        "    plt.title('Delay Analysis')\n",
        "    plt.grid(True)\n",
        "    plt.xticks(delays)\n",
        "    plt.show()"
      ],
      "metadata": {
        "id": "9YbsYBZOIvkU"
      },
      "execution_count": null,
      "outputs": []
    },
    {
      "cell_type": "code",
      "source": [
        "def calc_delay(df, input:str, output:str, start_time:str, end_time:str, max_delay=20, time_resolution=0.5):\n",
        "    \"\"\"\n",
        "    Returns the time delay with the highest correlation.\n",
        "\n",
        "    Parameters:\n",
        "    - df (pandas.DataFrame): The dataframe containing machine operation data.\n",
        "    - input: The feature you want to use as an input\n",
        "    - output: The feature you want to use as an output\n",
        "    - start_time\n",
        "    - end_time\n",
        "    - time_resolution: The interval of time (0.5 minutes by default)\n",
        "    \"\"\"\n",
        "\n",
        "    delays = np.arange(0, max_delay + 1)\n",
        "    correlations = []\n",
        "\n",
        "    for delay in delays:\n",
        "        delayed_data_shifted = np.roll(df[output].values, delay)\n",
        "        correlation = np.corrcoef(df[input].values, delayed_data_shifted)[0, 1]\n",
        "        correlations.append(correlation)\n",
        "\n",
        "    max_correlation = max(correlations)\n",
        "    max_delay = delays[correlations.index(max_correlation)]\n",
        "\n",
        "    max_delay_seconds = max_delay * time_resolution\n",
        "\n",
        "    return max_delay_seconds"
      ],
      "metadata": {
        "id": "k_cp8ZGlIvx8"
      },
      "execution_count": null,
      "outputs": []
    },
    {
      "cell_type": "code",
      "source": [
        "def plot_correlation(y_test, y_pred):\n",
        "    # Calculate correlation coefficient\n",
        "    correlation_coefficient = np.corrcoef(y_test, y_pred)[0, 1]\n",
        "\n",
        "    # Create a dataframe with y_test and y_pred values\n",
        "    data = {'Actual': y_test, 'Predicted': y_pred}\n",
        "    df = pd.DataFrame(data)\n",
        "\n",
        "    # Calculate correlation matrix\n",
        "    corr_matrix = df.corr()\n",
        "\n",
        "    # Create a heatmap\n",
        "    plt.figure(figsize=(8, 6))\n",
        "    sns.heatmap(corr_matrix, annot=True, cmap='coolwarm', vmin=-1, vmax=1, fmt=\".2f\", linewidths=0.5)\n",
        "    plt.title('Correlation Heatmap')\n",
        "    plt.xticks(rotation=45)\n",
        "    plt.yticks(rotation=0)\n",
        "    plt.show()\n",
        "    print(f\"Correlation Coefficient: {correlation_coefficient:.4f}\")"
      ],
      "metadata": {
        "id": "dmMv3iWI2m6g"
      },
      "execution_count": null,
      "outputs": []
    },
    {
      "cell_type": "markdown",
      "metadata": {
        "id": "_nntWzpIVn5d"
      },
      "source": [
        "# 1. Check the dataset for irregularities (e.g. missing or extreme values, values in bad format) and make the appropriate actions if needed.\n",
        "The cleaning operation Maria is the MVP!!!!"
      ]
    },
    {
      "cell_type": "markdown",
      "metadata": {
        "id": "Nvun8k8mVn5e"
      },
      "source": [
        "🧹 Run below cells to clean the data 🧹\n",
        " If you imported clean data move to '**Outliers**'"
      ]
    },
    {
      "cell_type": "code",
      "execution_count": null,
      "metadata": {
        "id": "LaT2JAFRVn5f"
      },
      "outputs": [],
      "source": [
        "#I tried to iterate the DataFrames, it won't work leave it as is\n",
        "\n",
        "df_May = df_May.iloc[1:] # 1st row\n",
        "df_May = df_May .drop('Unnamed: 0', axis=1) # 1st column\n",
        "\n",
        "df_June = df_June.iloc[1:] # 1st row\n",
        "df_June = df_June .drop('Unnamed: 0', axis=1) # 1st column\n",
        "\n",
        "df_July = df_July.iloc[1:] # 1st row\n",
        "df_July = df_July.drop('Unnamed: 0', axis=1) # 1st column\n",
        "\n",
        "df_August = df_August.iloc[1:] # 1st row\n",
        "df_August = df_August.drop('Unnamed: 0', axis=1) # 1st column\n",
        "\n",
        "df_September = df_September.iloc[1:] # 1st row\n",
        "df_September = df_September.drop('Unnamed: 0', axis=1) # 1st column\n",
        "\n",
        "df_October = df_October.iloc[1:] # 1st row\n",
        "df_October = df_October.drop('Unnamed: 0', axis=1) # 1st column\n"
      ]
    },
    {
      "cell_type": "markdown",
      "metadata": {
        "id": "iIRxACSbVn5f"
      },
      "source": [
        "Function to handle various date formats and convert them into a standardized format"
      ]
    },
    {
      "cell_type": "code",
      "execution_count": null,
      "metadata": {
        "id": "GCC0-m-9Vn5g"
      },
      "outputs": [],
      "source": [
        "def parse_date(date_string):\n",
        "    try:\n",
        "        return pd.to_datetime(date_string, format='%d/%m/%Y %H:%M').strftime('%Y-%m-%d %H:%M')\n",
        "    except ValueError:\n",
        "        return pd.to_datetime(date_string, format='%Y-%m-%d %H:%M:%S').strftime('%Y-%m-%d %H:%M')"
      ]
    },
    {
      "cell_type": "markdown",
      "metadata": {
        "id": "kHlwiE_SVn5g"
      },
      "source": [
        "Convert DataFrames to a standardized format"
      ]
    },
    {
      "cell_type": "code",
      "execution_count": null,
      "metadata": {
        "id": "xUJg03nEVn5h"
      },
      "outputs": [],
      "source": [
        "# List of dataframes\n",
        "dataframes = [df_May, df_June, df_July, df_August, df_September, df_October]\n",
        "\n",
        "# Iterate over the list of dataframes\n",
        "for df in dataframes:\n",
        "    df['date'] = df['date'].apply(parse_date)\n",
        "\n",
        "df_May['date']"
      ]
    },
    {
      "cell_type": "markdown",
      "metadata": {
        "id": "oulItCgTVn5i"
      },
      "source": [
        "In ~15% of the May DataFrame the values have \"ERROR\" values. We dropped them because they are insignificantly low"
      ]
    },
    {
      "cell_type": "code",
      "execution_count": null,
      "metadata": {
        "id": "zAAan7suVn5i"
      },
      "outputs": [],
      "source": [
        "dataframes = [df_May, df_June, df_July, df_August, df_September, df_October]\n",
        "\n",
        "for df in dataframes:\n",
        "    # Transpose the dataframe\n",
        "    transposed_df = df.T\n",
        "\n",
        "    # Count the number of \"ERROR\" values in each column\n",
        "    error_counts = transposed_df.eq(\"ERROR\").sum()\n",
        "\n",
        "    # Get the column names where the count of \"ERROR\" values is not equal to 93\n",
        "    columns_to_drop = error_counts[error_counts > 0].index\n",
        "\n",
        "    # Drop the columns from the dataframe\n",
        "    transposed_dropped_df = transposed_df.drop(columns_to_drop, axis=1)\n",
        "\n",
        "    # Get the variable name using globals() or locals()\n",
        "    df_name = [name for name, obj in globals().items() if obj is df][0]\n",
        "\n",
        "    # Print the resulting modified dataframe\n",
        "    print(len(columns_to_drop),' columns from' ,df_name , 'contain \"ERROR\" values')"
      ]
    },
    {
      "cell_type": "markdown",
      "metadata": {
        "id": "hSb2wU94Vn5i"
      },
      "source": [
        "Since df_May has 'ERROR' values we are dropping them"
      ]
    },
    {
      "cell_type": "code",
      "execution_count": null,
      "metadata": {
        "id": "op0HI1FuVn5j"
      },
      "outputs": [],
      "source": [
        "# Transpose the dataframe df_May\n",
        "transposed_df = df_May.T\n",
        "\n",
        "# Count the number of \"ERROR\" values in each column\n",
        "error_counts = transposed_df.eq(\"ERROR\").sum()\n",
        "\n",
        "# Get the column names where the count of \"ERROR\" values is greater than 0\n",
        "columns_to_drop = error_counts[error_counts > 0].index\n",
        "\n",
        "# Drop the columns from the transposed dataframe\n",
        "transposed_dropped_df = transposed_df.drop(columns_to_drop, axis=1)\n",
        "\n",
        "# Transpose the transposed and dropped dataframe back to its original form\n",
        "df_May= transposed_dropped_df.T"
      ]
    },
    {
      "cell_type": "markdown",
      "metadata": {
        "id": "_BYihRvUVn5j"
      },
      "source": [
        "The DataFrame has objects, convert them in float type"
      ]
    },
    {
      "cell_type": "code",
      "execution_count": null,
      "metadata": {
        "id": "Ot5Ly7meVn5j"
      },
      "outputs": [],
      "source": [
        "# Convert selected columns to float\n",
        "dataframes = [df_May, df_June, df_August, df_September, df_October]\n",
        "\n",
        "for df in dataframes:\n",
        "  df[df.columns[2:]] = df[df.columns[2:]].astype(float)"
      ]
    },
    {
      "cell_type": "markdown",
      "metadata": {
        "id": "-Rxp2taxVn5k"
      },
      "source": [
        "Remove NaN in all dataframes (except July). They are insignificantly low"
      ]
    },
    {
      "cell_type": "code",
      "execution_count": null,
      "metadata": {
        "id": "7nPUqt5JVn5k"
      },
      "outputs": [],
      "source": [
        "dataframes = [df_May, df_June, df_August, df_September, df_October]\n",
        "for df in dataframes:\n",
        "  df.dropna(inplace=True)"
      ]
    },
    {
      "cell_type": "markdown",
      "metadata": {
        "id": "39o8Eiv6Vn5k"
      },
      "source": [
        "Check a dataframe for NaN by changing the check_NaN_df variable"
      ]
    },
    {
      "cell_type": "code",
      "execution_count": null,
      "metadata": {
        "id": "ETL0cs2zVn5k"
      },
      "outputs": [],
      "source": [
        "check_NaN_df = df_July  # Put any month you want to check for NaN (na ginoyn oloi oi mines drop ektos apo July)\n",
        "missing_val_ = check_NaN_df.isna().sum()\n",
        "\n",
        "print(f\"There are {missing_val_[missing_val_ > 0].sum()} missing values in total in the file.\\n\\\n",
        "{check_NaN_df.isna().any(axis = 1).sum()} rows are affected.\")"
      ]
    },
    {
      "cell_type": "markdown",
      "metadata": {
        "id": "RFDydt18Vn5k"
      },
      "source": [
        "Remove **df_July** columns that have more than 25% NaN Values (they're not usable).\n",
        "**Some of those columns are inpurt variables, this means we might drop the dataframe df_July as not usable**\n"
      ]
    },
    {
      "cell_type": "code",
      "execution_count": null,
      "metadata": {
        "id": "epHX5kHfVn5l"
      },
      "outputs": [],
      "source": [
        "# Calculate the mean of missing values per column\n",
        "missing_mean = df_July.isna().mean()\n",
        "\n",
        "# Get the column names where the missing mean exceeds 0.25\n",
        "columns_to_drop = missing_mean[missing_mean > 0.25].index\n",
        "\n",
        "# Drop the columns with missing mean > 0.3\n",
        "df_July.drop(columns=columns_to_drop, inplace=True)\n",
        "\n",
        "df_July"
      ]
    },
    {
      "cell_type": "markdown",
      "metadata": {
        "id": "fJH1kw5HVn5l"
      },
      "source": [
        "Remove df_July rows that have more than 25% NaN Values (they're not usable)"
      ]
    },
    {
      "cell_type": "code",
      "execution_count": null,
      "metadata": {
        "id": "_ss7_NkcVn5l"
      },
      "outputs": [],
      "source": [
        "# Calculate the mean of missing values per row\n",
        "missing_mean = df_July.isna().mean(axis=1)\n",
        "\n",
        "# Get the row indices where the missing mean exceeds 0.25\n",
        "rows_to_drop = missing_mean[missing_mean > 0.25].index\n",
        "\n",
        "# Drop the rows with missing mean > 0.3\n",
        "df_July.drop(rows_to_drop, inplace=True)\n",
        "\n",
        "df_July"
      ]
    },
    {
      "cell_type": "markdown",
      "metadata": {
        "id": "Adluq1fFVn5m"
      },
      "source": [
        "Approximately 11K rows (of +75K) had more than 25% NaN values in their columns. This rows are not usable and were dropped, the rest NaN values are insignificanlty low so they were dropped as well"
      ]
    },
    {
      "cell_type": "code",
      "execution_count": null,
      "metadata": {
        "id": "Wy9JBFUMVn5m"
      },
      "outputs": [],
      "source": [
        "df_July.dropna(axis=1,  inplace=True) # Drop rest of NaN values"
      ]
    },
    {
      "cell_type": "markdown",
      "metadata": {
        "id": "eEt_Qu9pVn5n"
      },
      "source": [
        "🧹Run above cell till here to clean the data🧹\n",
        "\n",
        "Written in full , how did you fuck them like that Maria"
      ]
    },
    {
      "cell_type": "markdown",
      "metadata": {
        "id": "ZOp_ivIgVn5n"
      },
      "source": [
        "## Concat the DataFrames to one\n",
        "(If you used cleaned cvs there is no need to concat. The Semester_cleaned has the data)"
      ]
    },
    {
      "cell_type": "code",
      "execution_count": null,
      "metadata": {
        "id": "LLopDG6SVn5n"
      },
      "outputs": [],
      "source": [
        "def merge_common_columns (df1, df2):\n",
        "\n",
        "    common_columns = list(set(df1.columns) & set(df2.columns))\n",
        "\n",
        "    merged_df = pd.concat([df1[common_columns], df2[common_columns]], axis = 0 )\n",
        "\n",
        "    merged_df = merged_df.reset_index(drop = True)\n",
        "\n",
        "    return merged_df\n"
      ]
    },
    {
      "cell_type": "code",
      "execution_count": null,
      "metadata": {
        "id": "YyFhkYuEVn5o"
      },
      "outputs": [],
      "source": [
        "may_jun = merge_common_columns(df_May, df_June)\n",
        "#may_jun_jul = merge_common_columns(may_jun, df_July)\n",
        "may_jun_jul_aug = merge_common_columns(may_jun, df_August)\n",
        "#may_jun_jul_aug_sep = merge_common_columns(may_jun_jul_aug, df_September)\n",
        "df = merge_common_columns(may_jun_jul_aug, df_October)"
      ]
    },
    {
      "cell_type": "markdown",
      "source": [
        "Download new dataframes as csv"
      ],
      "metadata": {
        "id": "N6caTJ7-eq7k"
      }
    },
    {
      "cell_type": "code",
      "source": [
        "\n",
        "path = '/content/drive/MyDrive/'\n",
        "filename = 'Semester_cleaned_noJulySeptember.csv'\n",
        "\n",
        "# Save the DataFrame as a CSV file\n",
        "df.to_csv(path + filename, index=False)\n",
        "\n",
        "'''\n",
        "df_May.to_csv(path + 'May_cleaned.csv', index=False)\n",
        "df_June.to_csv(path + 'June_cleaned.csv', index=False)\n",
        "df_July.to_csv(path + 'July_cleaned.csv', index=False)\n",
        "df_August.to_csv(path + 'August_cleaned.csv', index=False)\n",
        "df_September.to_csv(path + 'September_cleaned.csv', index=False)\n",
        "df_October.to_csv(path + 'October_cleaned.csv', index=False)'''"
      ],
      "metadata": {
        "id": "x6OXA-XyT5u5"
      },
      "execution_count": null,
      "outputs": []
    },
    {
      "cell_type": "markdown",
      "metadata": {
        "id": "gR8UvtyoVn5o"
      },
      "source": [
        "## Outliers"
      ]
    },
    {
      "cell_type": "code",
      "execution_count": null,
      "metadata": {
        "id": "5brVQk5TVn50"
      },
      "outputs": [],
      "source": [
        "def outliers(dataframe, column, threshold_multiplier=1.5):\n",
        "    '''\n",
        "    This function uses the IQR method to detect outlier values in the dataframe\n",
        "    '''\n",
        "    warnings.filterwarnings(\"ignore\", category=UserWarning)\n",
        "\n",
        "    q1 = dataframe[column].quantile(0.25)\n",
        "    q3 = dataframe[column].quantile(0.75)\n",
        "\n",
        "    iqr = q3 - q1\n",
        "\n",
        "    low = q1 - threshold_multiplier * iqr\n",
        "    high = q3 + threshold_multiplier * iqr\n",
        "\n",
        "    outliers = dataframe[(dataframe[column] < low) | ((dataframe)[column] > high)]\n",
        "\n",
        "    return outliers[column]\n",
        "\n",
        "#example\n",
        "print(f\"There are {outliers(df_May, 'separator_speed_rpm_pv',3).count()} outliers, in the feature using the IQR method\")"
      ]
    },
    {
      "cell_type": "markdown",
      "metadata": {
        "id": "2Ju7x8GnVn51"
      },
      "source": [
        "## Handle outliers for input variables"
      ]
    },
    {
      "cell_type": "markdown",
      "metadata": {
        "id": "MSVsvz0aVn51"
      },
      "source": [
        "Select input variables and use  np.sqrt for outliers. Rest columns stay as is, we do not have info about the nature of the data"
      ]
    },
    {
      "cell_type": "code",
      "execution_count": null,
      "metadata": {
        "id": "mkKHCpVdVn51"
      },
      "outputs": [],
      "source": [
        "# Handle outliers for input variables\n",
        "\n",
        "\n",
        "# Select columns to transform (excluding the first column)\n",
        "columns_to_transform = [['bucket_elv_mtr_pwr_kw_pv'],\n",
        "                        ['mill_injection_water_m3/h_pv']\n",
        "                        ['fly_ash_1_ton/h_pv'] ,\n",
        "                        ['fly_ash_2_ton/h_pv'] ,\n",
        "                        ['grinding_pressure_bar_pv'],\n",
        "                        ['separator_speed_rpm_pv'],\n",
        "                        ['mill_out_pres_mbar_pv'] ]\n",
        "\n",
        "for column in columns_to_transform:\n",
        "    df_Semester_noJulySeptember[column] = np.sqrt(df_Semester_noJulySeptember[column])\n",
        "\n",
        "'''for column in columns_to_transform:\n",
        "    df_May[column] = np.sqrt(df_May[column])\n",
        "\n",
        "for column in columns_to_transform:\n",
        "    df_June[column] = np.sqrt(df_June[column])\n",
        "\n",
        "#for column in columns_to_transform:                                              #Σε οτι έκανα σχολιο '#' λεει οτι δεν υπάχρει η στήλη, παραδίνομαι\n",
        "    #df_July[column] = np.sqrt(df_July[column]) # maybe drop all dataframe,       #Αυτό μας διευκολύνει, απλά θα χρησιμοποιήσουμε μαιο ιουνιο για τρειν στο μπλοκ 2\n",
        "\n",
        "#for column in columns_to_transform:\n",
        "    #df_August[column] = np.sqrt(df_August[column])\n",
        "\n",
        "#for column in columns_to_transform:\n",
        "    #df_September[column] = np.sqrt(df_September[column])\n",
        "\n",
        "#for column in columns_to_transform:\n",
        "    #df_October[column] = np.sqrt(df_October[column])\n",
        "'''"
      ]
    },
    {
      "cell_type": "markdown",
      "metadata": {
        "id": "778NF6AbVn52"
      },
      "source": [
        "# 2. Understand the main statistical characteristics of the important (input, output) variables of the dataset using visual and statisticalmethods.\n",
        "\n",
        "Much love to Andr and his stupid maths"
      ]
    },
    {
      "cell_type": "code",
      "source": [
        "#Visual\n",
        "plt.figure(figsize=(10, 30))\n",
        "\n",
        "ax = plt.subplot(10, 2, 1)\n",
        "sns.distplot(df_Semester_noJulySeptember['separator_speed_rpm_pv'], ax=ax)\n",
        "\n",
        "ax = plt.subplot(10, 2, 2)\n",
        "sns.distplot(df_Semester_noJulySeptember['mill_dp_mbar_pv'], ax=ax)\n",
        "\n",
        "ax = plt.subplot(10, 2, 3)\n",
        "sns.distplot(df_Semester_noJulySeptember['separator_pwr_kw_pv'], ax=ax)\n",
        "\n",
        "ax = plt.subplot(10, 2, 4)\n",
        "sns.distplot(df_Semester_noJulySeptember['total_feed_ton/h_pv'], ax=ax)\n",
        "\n",
        "ax = plt.subplot(10, 2, 5)\n",
        "sns.distplot(df_Semester_noJulySeptember['fly_ash_1_ton/h_pv'], ax=ax)\n",
        "\n",
        "ax = plt.subplot(10, 2, 6)\n",
        "sns.distplot(df_Semester_noJulySeptember['fly_ash_2_ton/h_pv'], ax=ax)\n",
        "\n",
        "ax = plt.subplot(10, 2, 7)\n",
        "sns.distplot(df_Semester_noJulySeptember['main_fan_speed_rpm_pv'], ax=ax)\n",
        "\n",
        "ax = plt.subplot(10, 2, 8)\n",
        "sns.distplot(df_Semester_noJulySeptember['grinding_pressure_bar_pv'], ax=ax)\n",
        "\n",
        "ax = plt.subplot(10, 2, 9)\n",
        "sns.distplot(df_Semester_noJulySeptember['mill_injection_water_m3/h_pv'], ax=ax)\n",
        "\n",
        "ax = plt.subplot(10, 2, 10)\n",
        "sns.distplot(df_Semester_noJulySeptember['bucket_elv_mtr_pwr_kw_pv'], ax=ax)\n",
        "\n",
        "plt.tight_layout()"
      ],
      "metadata": {
        "id": "I5HuJGrcKUAb",
        "colab": {
          "base_uri": "https://localhost:8080/",
          "height": 1000
        },
        "outputId": "27cabf80-60a0-4cdf-9b0a-1e123d0a7e1d"
      },
      "execution_count": null,
      "outputs": [
        {
          "output_type": "display_data",
          "data": {
            "text/plain": [
              "<Figure size 1000x3000 with 10 Axes>"
            ],
            "image/png": "[encoded data removed]"
          },
          "metadata": {}
        }
      ]
    },
    {
      "cell_type": "markdown",
      "metadata": {
        "id": "wcPGkRcTVn57"
      },
      "source": [
        "## Statistics like you understand smart ass"
      ]
    },
    {
      "cell_type": "code",
      "execution_count": null,
      "metadata": {
        "id": "LV_KvdbIVn58",
        "colab": {
          "base_uri": "https://localhost:8080/",
          "height": 344
        },
        "outputId": "8b65b3a8-22dd-40c6-d985-fe47298a2688"
      },
      "outputs": [
        {
          "output_type": "execute_result",
          "data": {
            "text/plain": [
              "       separator_speed_rpm_pv  mill_dp_mbar_pv  separator_pwr_kw_pv  \\\n",
              "count           302433.000000    302433.000000        302433.000000   \n",
              "mean               720.310444        28.872246            55.873773   \n",
              "std                144.173807        12.805773             9.273690   \n",
              "min                  0.000000         0.010000             0.000000   \n",
              "25%                731.510000        30.600000            55.950000   \n",
              "50%                759.180000        34.280000            57.150000   \n",
              "75%                784.740000        36.580000            58.240000   \n",
              "max               1690.000000        65.930000           162.000000   \n",
              "\n",
              "       total_feed_ton/h_pv  fly_ash_1_ton/h_pv  fly_ash_2_ton/h_pv  \\\n",
              "count        302433.000000       302433.000000       302433.000000   \n",
              "mean             55.587052            5.003170            3.647788   \n",
              "std              34.098201           10.427627            9.053412   \n",
              "min               0.000000            0.000000            0.000000   \n",
              "25%              37.800000            0.010000            0.060000   \n",
              "50%              65.730000            0.020000            0.080000   \n",
              "75%              82.910000            0.040000            0.100000   \n",
              "max             119.100000           37.690000           32.700000   \n",
              "\n",
              "       main_fan_speed_rpm_pv  grinding_pressure_bar_pv  \\\n",
              "count          302433.000000             302433.000000   \n",
              "mean              776.648609                 99.152349   \n",
              "std               221.304370                 29.780647   \n",
              "min               357.000000                  0.000000   \n",
              "25%               761.600000                 69.000000   \n",
              "50%               842.520000                116.000000   \n",
              "75%               940.100000                119.000000   \n",
              "max              1190.000000                127.000000   \n",
              "\n",
              "       mill_injection_water_m3/h_pv  bucket_elv_mtr_pwr_kw_pv  \n",
              "count                 302433.000000             302433.000000  \n",
              "mean                       1.474593                  4.030866  \n",
              "std                        1.049758                  1.851817  \n",
              "min                        0.000000                  0.000000  \n",
              "25%                        0.000000                  4.690000  \n",
              "50%                        1.650000                  4.830000  \n",
              "75%                        2.470000                  4.940000  \n",
              "max                        3.310000                 10.360000  "
            ],
            "text/html": [
              "\n",
              "  <div id=\"df-31c25577-1d69-416a-9b8c-dc83839ae474\">\n",
              "    <div class=\"colab-df-container\">\n",
              "      <div>\n",
              "<style scoped>\n",
              "    .dataframe tbody tr th:only-of-type {\n",
              "        vertical-align: middle;\n",
              "    }\n",
              "\n",
              "    .dataframe tbody tr th {\n",
              "        vertical-align: top;\n",
              "    }\n",
              "\n",
              "    .dataframe thead th {\n",
              "        text-align: right;\n",
              "    }\n",
              "</style>\n",
              "<table border=\"1\" class=\"dataframe\">\n",
              "  <thead>\n",
              "    <tr style=\"text-align: right;\">\n",
              "      <th></th>\n",
              "      <th>separator_speed_rpm_pv</th>\n",
              "      <th>mill_dp_mbar_pv</th>\n",
              "      <th>separator_pwr_kw_pv</th>\n",
              "      <th>total_feed_ton/h_pv</th>\n",
              "      <th>fly_ash_1_ton/h_pv</th>\n",
              "      <th>fly_ash_2_ton/h_pv</th>\n",
              "      <th>main_fan_speed_rpm_pv</th>\n",
              "      <th>grinding_pressure_bar_pv</th>\n",
              "      <th>mill_injection_water_m3/h_pv</th>\n",
              "      <th>bucket_elv_mtr_pwr_kw_pv</th>\n",
              "    </tr>\n",
              "  </thead>\n",
              "  <tbody>\n",
              "    <tr>\n",
              "      <th>count</th>\n",
              "      <td>302433.000000</td>\n",
              "      <td>302433.000000</td>\n",
              "      <td>302433.000000</td>\n",
              "      <td>302433.000000</td>\n",
              "      <td>302433.000000</td>\n",
              "      <td>302433.000000</td>\n",
              "      <td>302433.000000</td>\n",
              "      <td>302433.000000</td>\n",
              "      <td>302433.000000</td>\n",
              "      <td>302433.000000</td>\n",
              "    </tr>\n",
              "    <tr>\n",
              "      <th>mean</th>\n",
              "      <td>720.310444</td>\n",
              "      <td>28.872246</td>\n",
              "      <td>55.873773</td>\n",
              "      <td>55.587052</td>\n",
              "      <td>5.003170</td>\n",
              "      <td>3.647788</td>\n",
              "      <td>776.648609</td>\n",
              "      <td>99.152349</td>\n",
              "      <td>1.474593</td>\n",
              "      <td>4.030866</td>\n",
              "    </tr>\n",
              "    <tr>\n",
              "      <th>std</th>\n",
              "      <td>144.173807</td>\n",
              "      <td>12.805773</td>\n",
              "      <td>9.273690</td>\n",
              "      <td>34.098201</td>\n",
              "      <td>10.427627</td>\n",
              "      <td>9.053412</td>\n",
              "      <td>221.304370</td>\n",
              "      <td>29.780647</td>\n",
              "      <td>1.049758</td>\n",
              "      <td>1.851817</td>\n",
              "    </tr>\n",
              "    <tr>\n",
              "      <th>min</th>\n",
              "      <td>0.000000</td>\n",
              "      <td>0.010000</td>\n",
              "      <td>0.000000</td>\n",
              "      <td>0.000000</td>\n",
              "      <td>0.000000</td>\n",
              "      <td>0.000000</td>\n",
              "      <td>357.000000</td>\n",
              "      <td>0.000000</td>\n",
              "      <td>0.000000</td>\n",
              "      <td>0.000000</td>\n",
              "    </tr>\n",
              "    <tr>\n",
              "      <th>25%</th>\n",
              "      <td>731.510000</td>\n",
              "      <td>30.600000</td>\n",
              "      <td>55.950000</td>\n",
              "      <td>37.800000</td>\n",
              "      <td>0.010000</td>\n",
              "      <td>0.060000</td>\n",
              "      <td>761.600000</td>\n",
              "      <td>69.000000</td>\n",
              "      <td>0.000000</td>\n",
              "      <td>4.690000</td>\n",
              "    </tr>\n",
              "    <tr>\n",
              "      <th>50%</th>\n",
              "      <td>759.180000</td>\n",
              "      <td>34.280000</td>\n",
              "      <td>57.150000</td>\n",
              "      <td>65.730000</td>\n",
              "      <td>0.020000</td>\n",
              "      <td>0.080000</td>\n",
              "      <td>842.520000</td>\n",
              "      <td>116.000000</td>\n",
              "      <td>1.650000</td>\n",
              "      <td>4.830000</td>\n",
              "    </tr>\n",
              "    <tr>\n",
              "      <th>75%</th>\n",
              "      <td>784.740000</td>\n",
              "      <td>36.580000</td>\n",
              "      <td>58.240000</td>\n",
              "      <td>82.910000</td>\n",
              "      <td>0.040000</td>\n",
              "      <td>0.100000</td>\n",
              "      <td>940.100000</td>\n",
              "      <td>119.000000</td>\n",
              "      <td>2.470000</td>\n",
              "      <td>4.940000</td>\n",
              "    </tr>\n",
              "    <tr>\n",
              "      <th>max</th>\n",
              "      <td>1690.000000</td>\n",
              "      <td>65.930000</td>\n",
              "      <td>162.000000</td>\n",
              "      <td>119.100000</td>\n",
              "      <td>37.690000</td>\n",
              "      <td>32.700000</td>\n",
              "      <td>1190.000000</td>\n",
              "      <td>127.000000</td>\n",
              "      <td>3.310000</td>\n",
              "      <td>10.360000</td>\n",
              "    </tr>\n",
              "  </tbody>\n",
              "</table>\n",
              "</div>\n",
              "      <button class=\"colab-df-convert\" onclick=\"convertToInteractive('df-31c25577-1d69-416a-9b8c-dc83839ae474')\"\n",
              "              title=\"Convert this dataframe to an interactive table.\"\n",
              "              style=\"display:none;\">\n",
              "        \n",
              "  <svg xmlns=\"http://www.w3.org/2000/svg\" height=\"24px\"viewBox=\"0 0 24 24\"\n",
              "       width=\"24px\">\n",
              "    <path d=\"M0 0h24v24H0V0z\" fill=\"none\"/>\n",
              "    <path d=\"M18.56 5.44l.94 2.06.94-2.06 2.06-.94-2.06-.94-.94-2.06-.94 2.06-2.06.94zm-11 1L8.5 8.5l.94-2.06 2.06-.94-2.06-.94L8.5 2.5l-.94 2.06-2.06.94zm10 10l.94 2.06.94-2.06 2.06-.94-2.06-.94-.94-2.06-.94 2.06-2.06.94z\"/><path d=\"M17.41 7.96l-1.37-1.37c-.4-.4-.92-.59-1.43-.59-.52 0-1.04.2-1.43.59L10.3 9.45l-7.72 7.72c-.78.78-.78 2.05 0 2.83L4 21.41c.39.39.9.59 1.41.59.51 0 1.02-.2 1.41-.59l7.78-7.78 2.81-2.81c.8-.78.8-2.07 0-2.86zM5.41 20L4 18.59l7.72-7.72 1.47 1.35L5.41 20z\"/>\n",
              "  </svg>\n",
              "      </button>\n",
              "      \n",
              "  <style>\n",
              "    .colab-df-container {\n",
              "      display:flex;\n",
              "      flex-wrap:wrap;\n",
              "      gap: 12px;\n",
              "    }\n",
              "\n",
              "    .colab-df-convert {\n",
              "      background-color: #E8F0FE;\n",
              "      border: none;\n",
              "      border-radius: 50%;\n",
              "      cursor: pointer;\n",
              "      display: none;\n",
              "      fill: #1967D2;\n",
              "      height: 32px;\n",
              "      padding: 0 0 0 0;\n",
              "      width: 32px;\n",
              "    }\n",
              "\n",
              "    .colab-df-convert:hover {\n",
              "      background-color: #E2EBFA;\n",
              "      box-shadow: 0px 1px 2px rgba(60, 64, 67, 0.3), 0px 1px 3px 1px rgba(60, 64, 67, 0.15);\n",
              "      fill: #174EA6;\n",
              "    }\n",
              "\n",
              "    [theme=dark] .colab-df-convert {\n",
              "      background-color: #3B4455;\n",
              "      fill: #D2E3FC;\n",
              "    }\n",
              "\n",
              "    [theme=dark] .colab-df-convert:hover {\n",
              "      background-color: #434B5C;\n",
              "      box-shadow: 0px 1px 3px 1px rgba(0, 0, 0, 0.15);\n",
              "      filter: drop-shadow(0px 1px 2px rgba(0, 0, 0, 0.3));\n",
              "      fill: #FFFFFF;\n",
              "    }\n",
              "  </style>\n",
              "\n",
              "      <script>\n",
              "        const buttonEl =\n",
              "          document.querySelector('#df-31c25577-1d69-416a-9b8c-dc83839ae474 button.colab-df-convert');\n",
              "        buttonEl.style.display =\n",
              "          google.colab.kernel.accessAllowed ? 'block' : 'none';\n",
              "\n",
              "        async function convertToInteractive(key) {\n",
              "          const element = document.querySelector('#df-31c25577-1d69-416a-9b8c-dc83839ae474');\n",
              "          const dataTable =\n",
              "            await google.colab.kernel.invokeFunction('convertToInteractive',\n",
              "                                                     [key], {});\n",
              "          if (!dataTable) return;\n",
              "\n",
              "          const docLinkHtml = 'Like what you see? Visit the ' +\n",
              "            '<a target=\"_blank\" href=https://colab.research.google.com/notebooks/data_table.ipynb>data table notebook</a>'\n",
              "            + ' to learn more about interactive tables.';\n",
              "          element.innerHTML = '';\n",
              "          dataTable['output_type'] = 'display_data';\n",
              "          await google.colab.output.renderOutput(dataTable, element);\n",
              "          const docLink = document.createElement('div');\n",
              "          docLink.innerHTML = docLinkHtml;\n",
              "          element.appendChild(docLink);\n",
              "        }\n",
              "      </script>\n",
              "    </div>\n",
              "  </div>\n",
              "  "
            ]
          },
          "metadata": {},
          "execution_count": 6
        }
      ],
      "source": [
        "#Statistical summary\n",
        "selected_columns = ['separator_speed_rpm_pv', 'mill_dp_mbar_pv', 'separator_pwr_kw_pv', 'total_feed_ton/h_pv', 'fly_ash_1_ton/h_pv', 'fly_ash_2_ton/h_pv', 'main_fan_speed_rpm_pv', 'grinding_pressure_bar_pv', 'mill_injection_water_m3/h_pv', 'bucket_elv_mtr_pwr_kw_pv']\n",
        "df_Semester_noJulySeptember[selected_columns].describe()\n"
      ]
    },
    {
      "cell_type": "markdown",
      "metadata": {
        "id": "9ApADnZLVn5-"
      },
      "source": [
        "# 3. Quantify the delay time (if any) between a variation in the input variables and the outcome effect in the output variable.\n",
        "\n",
        "\" Despair is only for those who see the end beyond all doubt . We do not \" - GANDALF"
      ]
    },
    {
      "cell_type": "markdown",
      "metadata": {
        "id": "6ZRyBt6mVn5_"
      },
      "source": [
        "1. we dont need smoothing cause we get the same every time\n",
        "2. adding the vusual in case we brainstorm anythig\n",
        "3. im adding all the defs and we are going to kill the useless ones after the meeting"
      ]
    },
    {
      "cell_type": "markdown",
      "source": [
        "### Function to filter dataframe\n",
        "#### mind that df_operating applies to the whole dataframe based on the \"normal\" operation of the output 'separator_pwr_kw_pv'. If you decide to consider another input/output you need to re-apply the function but this time for the input/output of choice."
      ],
      "metadata": {
        "id": "eWozFAJ6uNKa"
      }
    },
    {
      "cell_type": "code",
      "source": [
        "def normal_op(df, column: str, threshold: int):\n",
        "    \"\"\"\n",
        "    Filters the dataframe to keep measurements only during normal machine operation.\n",
        "\n",
        "    Parameters:\n",
        "    - df (pandas.DataFrame): The dataframe containing machine operation data.\n",
        "    - column: The feature you want to filter\n",
        "    - threshold: Value of the filter you want to apply\n",
        "\n",
        "    Returns:\n",
        "    - pandas.DataFrame: The filtered dataframe with measurements during normal operation.\n",
        "    \"\"\"\n",
        "\n",
        "    # Filter the dataframe based on normal operation\n",
        "    filtered_df = df[df[column] > threshold]\n",
        "\n",
        "    return filtered_df"
      ],
      "metadata": {
        "id": "WJ-dKdz0DCdI"
      },
      "execution_count": null,
      "outputs": []
    },
    {
      "cell_type": "code",
      "source": [
        "df_norm_block1 = normal_op(df_Semester_noJulySeptember, \"separator_pwr_kw_pv\", 20)"
      ],
      "metadata": {
        "id": "NXhcTnygF3Cd"
      },
      "execution_count": null,
      "outputs": []
    },
    {
      "cell_type": "code",
      "source": [
        "df_norm_block1"
      ],
      "metadata": {
        "id": "BogA7W8xeE9Y"
      },
      "execution_count": null,
      "outputs": []
    },
    {
      "cell_type": "markdown",
      "source": [
        "## Block1 - df_norm_block1 delay analysis"
      ],
      "metadata": {
        "id": "vhUOymB9IlSW"
      }
    },
    {
      "cell_type": "code",
      "source": [
        "df_norm_block1.index = df_norm_block1['date']"
      ],
      "metadata": {
        "id": "uCsfq4BaPLOu"
      },
      "execution_count": null,
      "outputs": []
    },
    {
      "cell_type": "code",
      "source": [
        "df_norm_block1['separator_pwr_kw_pv'].plot()\n",
        "plt.xticks(rotation=60)"
      ],
      "metadata": {
        "id": "PaFn2x0gYBEm",
        "colab": {
          "base_uri": "https://localhost:8080/",
          "height": 741
        },
        "outputId": "1bcba92f-0b00-4572-946a-37405db583cb"
      },
      "execution_count": null,
      "outputs": [
        {
          "output_type": "execute_result",
          "data": {
            "text/plain": [
              "(array([-50000.,      0.,  50000., 100000., 150000., 200000., 250000.,\n",
              "        300000., 350000.]),\n",
              " [Text(-50000.0, 0, '2019-10-12 23:07'),\n",
              "  Text(0.0, 0, '2019-05-10 11:07'),\n",
              "  Text(50000.0, 0, '2019-05-31 04:57'),\n",
              "  Text(100000.0, 0, '2019-06-23 15:09'),\n",
              "  Text(150000.0, 0, '2019-08-09 17:49'),\n",
              "  Text(200000.0, 0, '2019-08-27 10:22'),\n",
              "  Text(250000.0, 0, '2019-10-14 21:00'),\n",
              "  Text(300000.0, 0, ''),\n",
              "  Text(350000.0, 0, '')])"
            ]
          },
          "metadata": {},
          "execution_count": 12
        },
        {
          "output_type": "display_data",
          "data": {
            "text/plain": [
              "<Figure size 640x480 with 1 Axes>"
            ],
            "image/png": "[encoded data removed]"
          },
          "metadata": {}
        }
      ]
    },
    {
      "cell_type": "markdown",
      "source": [
        "Tsaganidou Delay"
      ],
      "metadata": {
        "id": "w3Y1iEdVs1G7"
      }
    },
    {
      "cell_type": "markdown",
      "source": [
        "### df_norm_block1 - Block 1\n",
        "We use this for block 1, in this code we search for delay between separator_pwr_kw_pv and separator_speed_rpm_pv"
      ],
      "metadata": {
        "id": "r2TCRvjCoo9R"
      }
    },
    {
      "cell_type": "markdown",
      "source": [
        "Set Index for df_May_June"
      ],
      "metadata": {
        "id": "9SCTgnv69r5t"
      }
    },
    {
      "cell_type": "code",
      "source": [
        "# Set index to subset the desired time period\n",
        "df_Semester_noJulySeptember.set_index('date', inplace=True)"
      ],
      "metadata": {
        "id": "4_zaTFly9r5_"
      },
      "execution_count": null,
      "outputs": []
    },
    {
      "cell_type": "markdown",
      "source": [
        "Reset Index (After the analysis)"
      ],
      "metadata": {
        "id": "v7mZvOJk9r6A"
      }
    },
    {
      "cell_type": "code",
      "source": [
        "# Remember to reset the inxed after the delay analysis\n",
        "df_Semester_noJulySeptember = df_Semester_noJulySeptember.reset_index()"
      ],
      "metadata": {
        "id": "VRc-CwZd9r6B"
      },
      "execution_count": null,
      "outputs": []
    },
    {
      "cell_type": "markdown",
      "source": [
        "### Perform delay analysis"
      ],
      "metadata": {
        "id": "9v2zIW8_-LOG"
      }
    },
    {
      "cell_type": "markdown",
      "source": [
        "Function for the visualization of delay"
      ],
      "metadata": {
        "id": "FmNkyirt-Hi5"
      }
    },
    {
      "cell_type": "code",
      "source": [
        "def visual_delay(df, input:str, output:str, start_time:str, end_time:str, max_delay=20):\n",
        "    \"\"\"\n",
        "    Creates a Delay-Correlation graph.\n",
        "\n",
        "    Parameters:\n",
        "    - df (pandas.DataFrame): The dataframe containing machine operation data.\n",
        "    - input: The feature you want to use as an input\n",
        "    - output: The feature you want to use as an output\n",
        "    - start_time\n",
        "    - end_time\n",
        "    \"\"\"\n",
        "\n",
        "    delays = np.arange(0, max_delay + 1)\n",
        "    correlations = []\n",
        "\n",
        "    for delay in delays:\n",
        "        delayed_data_shifted = np.roll(df[output].values, delay)\n",
        "        correlation = np.corrcoef(df[input].values, delayed_data_shifted)[0, 1]\n",
        "        correlations.append(correlation)\n",
        "\n",
        "    plt.plot(delays, correlations, marker='o')\n",
        "    plt.xlabel('Delay')\n",
        "    plt.ylabel('Correlation')\n",
        "    plt.title('Delay Analysis')\n",
        "    plt.grid(True)\n",
        "    plt.xticks(delays)\n",
        "    plt.show()"
      ],
      "metadata": {
        "id": "SJ5iPhzg9r6C"
      },
      "execution_count": null,
      "outputs": []
    },
    {
      "cell_type": "markdown",
      "source": [
        "Function for the calculation of the delay with the maximum correlation"
      ],
      "metadata": {
        "id": "aBDxvJPZBGfI"
      }
    },
    {
      "cell_type": "code",
      "source": [
        "def calc_delay(df, input:str, output:str, start_time:str, end_time:str, max_delay=20, time_resolution=0.5):\n",
        "    \"\"\"\n",
        "    Returns the time delay with the highest correlation.\n",
        "\n",
        "    Parameters:\n",
        "    - df (pandas.DataFrame): The dataframe containing machine operation data.\n",
        "    - input: The feature you want to use as an input\n",
        "    - output: The feature you want to use as an output\n",
        "    - start_time\n",
        "    - end_time\n",
        "    - time_resolution: The interval of time (0.5 minutes by default)\n",
        "    \"\"\"\n",
        "\n",
        "    delays = np.arange(0, max_delay + 1)\n",
        "    correlations = []\n",
        "\n",
        "    for delay in delays:\n",
        "        delayed_data_shifted = np.roll(df[output].values, delay)\n",
        "        correlation = np.corrcoef(df[input].values, delayed_data_shifted)[0, 1]\n",
        "        correlations.append(correlation)\n",
        "\n",
        "    max_correlation = max(correlations)\n",
        "    max_delay = delays[correlations.index(max_correlation)]\n",
        "\n",
        "    max_delay_seconds = max_delay * time_resolution\n",
        "\n",
        "    return max_delay_seconds"
      ],
      "metadata": {
        "id": "cUVZpkua-PHW"
      },
      "execution_count": null,
      "outputs": []
    },
    {
      "cell_type": "code",
      "source": [
        "visual_delay(df_norm_block1, 'separator_speed_rpm_pv', 'separator_pwr_kw_pv', '2019-05-11 11:00', '2019-10-30 20:30' )"
      ],
      "metadata": {
        "id": "GRi88iso9r6B",
        "colab": {
          "base_uri": "https://localhost:8080/",
          "height": 472
        },
        "outputId": "40656ed7-b56f-4952-a516-1d63a071362b"
      },
      "execution_count": null,
      "outputs": [
        {
          "output_type": "display_data",
          "data": {
            "text/plain": [
              "<Figure size 640x480 with 1 Axes>"
            ],
            "image/png": "[encoded data removed]"
          },
          "metadata": {}
        }
      ]
    },
    {
      "cell_type": "code",
      "source": [
        "calc_delay(df_norm_block1, 'separator_speed_rpm_pv', 'separator_pwr_kw_pv', '2019-05-11 11:00', '2019-10-30 20:30' )"
      ],
      "metadata": {
        "id": "gTHaWAKU-e4E",
        "colab": {
          "base_uri": "https://localhost:8080/"
        },
        "outputId": "23b8c602-3b00-43eb-f872-7a7fa48e35e0"
      },
      "execution_count": null,
      "outputs": [
        {
          "output_type": "execute_result",
          "data": {
            "text/plain": [
              "4.5"
            ]
          },
          "metadata": {},
          "execution_count": 16
        }
      ]
    },
    {
      "cell_type": "code",
      "source": [
        "calc_delay(df_norm_block1, 'mill_dp_mbar_pv', 'separator_pwr_kw_pv', '2019-05-11 11:00', '2019-10-30 20:30' )"
      ],
      "metadata": {
        "id": "k_qZ-h7gCmHX",
        "colab": {
          "base_uri": "https://localhost:8080/"
        },
        "outputId": "a91fdbc3-2b07-4173-8209-e3187958208a"
      },
      "execution_count": null,
      "outputs": [
        {
          "output_type": "execute_result",
          "data": {
            "text/plain": [
              "2.0"
            ]
          },
          "metadata": {},
          "execution_count": 17
        }
      ]
    },
    {
      "cell_type": "markdown",
      "source": [
        "## Block2 - df_norm_block1 delay analysis"
      ],
      "metadata": {
        "id": "WPvsqoIbpCvT"
      }
    },
    {
      "cell_type": "markdown",
      "source": [
        "These are the columns that work as input for Block 2\n",
        "```\n",
        "columns_for_delay_analysis = [['bucket_elv_mtr_pwr_kw_pv'],\n",
        "                              ['mill_injection_water_m3/h_pv']\n",
        "                              ['fly_ash_1_ton/h_pv'] ,\n",
        "                              ['fly_ash_2_ton/h_pv'] ,\n",
        "                              ['grinding_pressure_bar_pv'],\n",
        "                              ['mill_out_pres_mbar_pv'] ]\n",
        "```\n",
        "We checked every column by trying to print it.\n",
        "\n",
        "Only May and June have all the columns, so we keep them for training\n",
        "\n",
        "The results are here: https://docs.google.com/spreadsheets/d/1P-yOw3OwG3VYdGmTPtB4KKFuZp_O2IkUChyMP82qp5U/edit?usp=sharing\n",
        "\n",
        "Now we will create a new dataframe for May and June to perfom delay analysis for mill_injection_water_m3/h_pv,\tfly_ash_1_ton/h_pv,\tfly_ash_2_ton/h_pv\n",
        "\n",
        "For bucket_elv_mtr_pwr_kw_pv,\tgrinding_pressure_bar_pv we can use separetly the months August and October too (according to the spreadsheet we created)"
      ],
      "metadata": {
        "id": "ghUXCAOIughh"
      }
    },
    {
      "cell_type": "code",
      "source": [
        "find_name(df_Semester_noJulySeptember, 'injection')"
      ],
      "metadata": {
        "id": "GSoN9XZcJ3-G"
      },
      "execution_count": null,
      "outputs": []
    },
    {
      "cell_type": "code",
      "source": [
        "inputs = ['total_feed_ton/h_pv',\n",
        "          'fly_ash_2_ton/h_pv',\n",
        "          'fly_ash_2_ton/h_pv',\n",
        "          'main_fan_speed_rpm_pv',\n",
        "          'separator_speed_rpm_pv',\n",
        "          'grinding_pressure_bar_pv',\n",
        "          'mill_injection_water_m3/h_pv',\n",
        "          'bucket_elv_mtr_pwr_kw_pv']"
      ],
      "metadata": {
        "id": "ebNqrtCwLwhz"
      },
      "execution_count": null,
      "outputs": []
    },
    {
      "cell_type": "code",
      "source": [
        "for feature in inputs:\n",
        "  print(f\"The time delay for {feature} is {calc_delay(df_norm_block1, feature, 'mill_dp_mbar_pv', '2019-05-11 11:00', '2019-10-30 20:30' )}\")"
      ],
      "metadata": {
        "id": "riqKt2XAMyc4",
        "colab": {
          "base_uri": "https://localhost:8080/"
        },
        "outputId": "be67cf4b-fa21-4d2d-cf75-ff55007ededc"
      },
      "execution_count": null,
      "outputs": [
        {
          "output_type": "stream",
          "name": "stdout",
          "text": [
            "The time delay for total_feed_ton/h_pv is 0.0\n",
            "The time delay for fly_ash_2_ton/h_pv is 0.0\n",
            "The time delay for fly_ash_2_ton/h_pv is 0.0\n",
            "The time delay for main_fan_speed_rpm_pv is 0.0\n",
            "The time delay for separator_speed_rpm_pv is 4.0\n",
            "The time delay for grinding_pressure_bar_pv is 0.0\n",
            "The time delay for mill_injection_water_m3/h_pv is 0.0\n",
            "The time delay for bucket_elv_mtr_pwr_kw_pv is 0.0\n"
          ]
        }
      ]
    },
    {
      "cell_type": "markdown",
      "metadata": {
        "id": "_7lWuhfZVn6Q"
      },
      "source": [
        "# 4. Explore the correlation of the output variable with the input variables using visual and statistical methods and describe the influence on the output variable that a variation of the input values causes"
      ]
    },
    {
      "cell_type": "code",
      "source": [
        "df_norm_block1['date']"
      ],
      "metadata": {
        "colab": {
          "base_uri": "https://localhost:8080/"
        },
        "id": "MdIH7eWw-cU3",
        "outputId": "acf9f728-5780-4948-feff-c75923765185"
      },
      "execution_count": null,
      "outputs": [
        {
          "output_type": "execute_result",
          "data": {
            "text/plain": [
              "date\n",
              "2019-05-10 11:07    2019-05-10 11:07\n",
              "2019-05-10 11:12    2019-05-10 11:12\n",
              "2019-05-10 11:24    2019-05-10 11:24\n",
              "2019-05-10 11:24    2019-05-10 11:24\n",
              "2019-05-10 11:25    2019-05-10 11:25\n",
              "                          ...       \n",
              "2019-10-31 23:57    2019-10-31 23:57\n",
              "2019-10-31 23:57    2019-10-31 23:57\n",
              "2019-10-31 23:58    2019-10-31 23:58\n",
              "2019-10-31 23:58    2019-10-31 23:58\n",
              "2019-10-31 23:59    2019-10-31 23:59\n",
              "Name: date, Length: 294717, dtype: object"
            ]
          },
          "metadata": {},
          "execution_count": 20
        }
      ]
    },
    {
      "cell_type": "code",
      "execution_count": null,
      "metadata": {
        "id": "nIrwNs5JVn6Q"
      },
      "outputs": [],
      "source": [
        "# Convert the first column to datetime type\n",
        "df_norm_block1['date'] = pd.to_datetime(df_norm_block1['date'])\n",
        "\n",
        "# Set the first column as the index (required for time-based slicing)\n",
        "df_norm_block1.set_index('date', inplace=True)\n",
        "\n",
        "def plot_slice(df_norm_block1, start_time, end_time, variable):\n",
        "\n",
        "  # Slice the dataframe based on the time range\n",
        "  df_period = df_norm_block1[start_time:end_time]\n",
        "\n",
        "  # Plot the desired columns within the specified period\n",
        "  df_period[[variable]].plot()\n",
        "\n",
        "  # Set plot title and labels\n",
        "  plt.title('Data for Specific Period')\n",
        "  plt.xlabel('Time')\n",
        "  plt.ylabel('Values')\n",
        "\n",
        "  # Display the plot\n",
        "  plt.show()"
      ]
    },
    {
      "cell_type": "code",
      "execution_count": null,
      "metadata": {
        "id": "ysqbZ1IuVn6R"
      },
      "outputs": [],
      "source": [
        "#check the output is working on this period\n",
        "plot_slice(df_norm_block1, '2019-08-01 09:00:00', '2019-08-30 15:00:00', 'separator_pwr_kw_pv')"
      ]
    },
    {
      "cell_type": "code",
      "execution_count": null,
      "metadata": {
        "id": "iUb5zEpzVn6R"
      },
      "outputs": [],
      "source": [
        "###Σε αυτό το μπλοκ ειναι που παιρνω διαφορα timeframes και μου βγαζει σε ενα γραφημα την λειτουργια ολων των μεταβλητων\n",
        "\n",
        "# Specify the start and end times for the slice\n",
        "#start_time = '2019-06-05 01:30:00'\n",
        "#end_time = '2019-06-05 09:30:00'\n",
        "\n",
        "# Select the columns of interest\n",
        "#columns_of_interest = ['separator_speed_rpm_pv', 'mill_dp_mbar_pv', 'separator_pwr_kw_pv']\n",
        "\n",
        "# Create a subset dataframe based on the specified timeframe\n",
        "#subset_df = df_Semester_noJuly.loc[start_time:end_time, columns_of_interest]\n",
        "\n",
        "# Plot the columns over time\n",
        "#plt.figure(figsize=(12, 6))\n",
        "#for column in columns_of_interest:\n",
        " #   plt.plot(subset_df.index, subset_df[column], label=column)\n",
        "\n",
        "# Add labels and legend\n",
        "#plt.xlabel('Timestamp')\n",
        "#plt.ylabel('Value')\n",
        "#plt.title('Separator Speed, Mill DP, and Separator Power Over Time')\n",
        "#plt.legend()\n",
        "\n",
        "# Show the plot\n",
        "#plt.show()"
      ]
    },
    {
      "cell_type": "code",
      "execution_count": null,
      "metadata": {
        "id": "1AxV0xtTVn6R"
      },
      "outputs": [],
      "source": [
        "#start_time = '2019-06-05 01:30:00'\n",
        "#end_time = '2019-06-05 09:30:00'\n",
        "\n",
        "# Create scatter plot separator speed VS separator power\n",
        "#plt.scatter(df_Semester_noJuly.loc[start_time:end_time, 'mill_dp_mbar_pv'], df_Semester_noJuly.loc[start_time:end_time, 'separator_pwr_kw_pv'])\n",
        "\n",
        "# Add labels and title\n",
        "#plt.xlabel('Separator Speed')\n",
        "#plt.ylabel('Separator Motor Power')\n",
        "#plt.title('Scatter Plot: Separator Speed vs Separator Motor Power')\n",
        "\n",
        "# Show the plot\n",
        "#plt.show()\n",
        "\n",
        "#Clusters on a Horizontal Line:\n",
        "#The presence of clusters on a horizontal line suggests that there are specific combinations of separator speed and separator motor power that\n",
        "#occur frequently in the data.\n",
        "#This indicates that certain operating conditions or settings may result in consistent values of separator motor power,\n",
        "#regardless of changes in the separator speed. It could be an indication of a threshold or a particular regime of operation where the system\n",
        "#behaves in a stable manner.\n",
        "\n",
        "#Higher Value Outliers: The presence of higher value outliers represents data points that deviate significantly from the general pattern of the scatter plot. These outliers could indicate unusual or extreme operating conditions that lead to higher values of separator motor power. They may be caused by transient events, equipment malfunctions, or other factors that result in abnormal behavior. It would be worth investigating these outliers to understand their causes and whether any actions or adjustments are needed to address them.\n"
      ]
    },
    {
      "cell_type": "code",
      "execution_count": null,
      "metadata": {
        "id": "Gopcb6vPVn6R"
      },
      "outputs": [],
      "source": [
        "#start_time = '2019-06-05 01:30:00'\n",
        "#end_time = '2019-06-05 09:30:00'\n",
        "\n",
        "# Create scatter plot mill dp VS separator power\n",
        "#plt.scatter(df_Semester_noJuly.loc[start_time:end_time, 'separator_speed_rpm_pv'], df_Semester_noJuly.loc[start_time:end_time, 'separator_pwr_kw_pv'])\n",
        "\n",
        "# Add labels and title\n",
        "#plt.xlabel('Mill DP')\n",
        "#plt.ylabel('Separator Motor Power')\n",
        "#plt.title('Scatter Plot: Mill DP vs Separator Motor Power')\n",
        "\n",
        "# Show the plot\n",
        "#plt.show()"
      ]
    },
    {
      "cell_type": "code",
      "source": [
        "# Heatmap\n",
        "\n",
        "start_time = '2019-08-01 09:00:00'\n",
        "end_time = '2019-08-30 15:00:00'\n",
        "\n",
        "df_norm_block1['shifted_separator_speed']= df_norm_block1['separator_speed_rpm_pv'].shift(-9)\n",
        "df_norm_block1['shifted_mill'] = df_norm_block1['mill_dp_mbar_pv'].shift(-4)\n",
        "#df_norm_block1['shifted_separator_pwr'] = df_norm_block1['separator_pwr_kw_pv'].shift(6)\n",
        "\n",
        "\n",
        "# Select the columns of interest\n",
        "columns_of_interest = ['separator_pwr_kw_pv', 'shifted_separator_speed', 'shifted_mill']\n",
        "subset_df = df_norm_block1.loc[start_time:end_time, columns_of_interest]\n",
        "\n",
        "\n",
        "# Compute the correlation matrix\n",
        "correlation_matrix = subset_df.corr()\n",
        "\n",
        "# Create the heatmap\n",
        "plt.figure(figsize=(8, 6))\n",
        "#sns.heatmap(correlation_matrix, annot=True, cmap='coolwarm', cbar=True, linewidths=0.5)\n",
        "sns.heatmap(correlation_matrix[['separator_pwr_kw_pv']].sort_values(by = 'separator_pwr_kw_pv', ascending = False), annot=True, cmap='coolwarm', fmt=\".2f\", linewidths=0.5)\n",
        "\n",
        "# Add title\n",
        "plt.title('block 1')\n",
        "\n",
        "# Save the heatmap at googledrive\n",
        "#file_path = '/content/drive/MyDrive/heatmap.png'\n",
        "#plt.savefig(file_path, bbox_inches='tight', pad_inches=0.1)"
      ],
      "metadata": {
        "id": "yYkikjlCV_kU",
        "colab": {
          "base_uri": "https://localhost:8080/",
          "height": 562
        },
        "outputId": "7a261dd4-b522-4752-bdba-761103d23afe"
      },
      "execution_count": null,
      "outputs": [
        {
          "output_type": "execute_result",
          "data": {
            "text/plain": [
              "Text(0.5, 1.0, 'block 1')"
            ]
          },
          "metadata": {},
          "execution_count": 131
        },
        {
          "output_type": "display_data",
          "data": {
            "text/plain": [
              "<Figure size 800x600 with 2 Axes>"
            ],
            "image/png": "[encoded data removed]"
          },
          "metadata": {}
        }
      ]
    },
    {
      "cell_type": "code",
      "source": [
        "#statistical measures for correlation\n",
        "\n",
        "# Specify the start and end times for the slice\n",
        "#start_time = '2019-06-05 01:30:00'\n",
        "#end_time = '2019-06-05 09:30:00'\n",
        "\n",
        "# Select the columns of interest\n",
        "#columns_of_interest = ['separator_speed_rpm_pv', 'mill_dp_mbar_pv', 'separator_pwr_kw_pv']\n",
        "\n",
        "# Create a subset dataframe based on the specified timeframe\n",
        "#subset_df = df_Semester_noJulySeptember.loc[start_time:end_time, columns_of_interest]\n",
        "\n",
        "# Calculate the correlation matrix\n",
        "#correlation_matrix = subset_df.corr()\n",
        "\n",
        "#subset_df['shifted_speed'] = subset_df['separator_speed_rpm_pv'].shift(10)\n",
        "#subset_df['shifted_mill'] = subset_df['mill_dp_mbar_pv'].shift(10)\n",
        "\n",
        "\n",
        "# Compute the correlation matrix\n",
        "#correlation_matrix = subset_df.corr()\n",
        "#correlation_matrix = subset_df[['separator_pwr_kw_pv', 'shifted_speed', 'shifted_mill']].corr()\n",
        "\n",
        "# Display the correlation matrix\n",
        "print(correlation_matrix)"
      ],
      "metadata": {
        "id": "nRAI2B1Jo4Ym",
        "colab": {
          "base_uri": "https://localhost:8080/"
        },
        "outputId": "1f25965d-def9-4fe4-de56-ceaaf9ae6fe3"
      },
      "execution_count": null,
      "outputs": [
        {
          "output_type": "stream",
          "name": "stdout",
          "text": [
            "                         separator_pwr_kw_pv  shifted_separator_speed  \\\n",
            "separator_pwr_kw_pv                 1.000000                 0.384549   \n",
            "shifted_separator_speed             0.384549                 1.000000   \n",
            "shifted_mill                        0.357729                 0.572040   \n",
            "\n",
            "                         shifted_mill  \n",
            "separator_pwr_kw_pv          0.357729  \n",
            "shifted_separator_speed      0.572040  \n",
            "shifted_mill                 1.000000  \n"
          ]
        }
      ]
    },
    {
      "cell_type": "markdown",
      "source": [
        "**block 2**"
      ],
      "metadata": {
        "id": "adWYvGeHBKM1"
      }
    },
    {
      "cell_type": "code",
      "source": [
        "# Heatmap\n",
        "\n",
        "start_time = '2019-08-01 09:00:00'\n",
        "end_time = '2019-08-30 15:00:00'\n",
        "\n",
        "#df_norm_block1['shifted_total_feed']= df_norm_block1['total_feed_ton/h_pv'].shift(6)\n",
        "#df_norm_block1['shifted_fly_ash_1'] = df_norm_block1['fly_ash_1_ton/h_pv'].shift(6)\n",
        "#df_norm_block1['shifted_fly_ash_2']= df_norm_block1['fly_ash_2_ton/h_pv'].shift(6)\n",
        "#df_norm_block1['shifted_main_fan_speed'] = df_norm_block1['main_fan_speed_rpm_pv'].shift(6)\n",
        "df_norm_block1['shifted_separator_speed'] = df_norm_block1['separator_speed_rpm_pv'].shift(-8)\n",
        "#df_norm_block1['shifted_grinding_pressure_bar'] = df_norm_block1['grinding_pressure_bar_pv'].shift(6)\n",
        "#df_norm_block1['shifted_mill_injection_water'] = df_norm_block1['mill_injection_water_m3/h_pv'].shift(6)\n",
        "#df_norm_block1['shifted_bucket_elv_mtr'] = df_norm_block1['bucket_elv_mtr_pwr_kw_pv'].shift(6)\n",
        "#df_norm_block1['shifted_mill_dp_mbar_pv'] = df_norm_block1['mill_dp_mbar_pv'].shift(6)\n",
        "\n",
        "\n",
        "# Select the columns of interest\n",
        "columns_of_interest2 = ['mill_dp_mbar_pv', 'total_feed_ton/h_pv', 'fly_ash_1_ton/h_pv', 'fly_ash_2_ton/h_pv', 'main_fan_speed_rpm_pv', 'shifted_separator_speed', 'grinding_pressure_bar_pv', 'mill_injection_water_m3/h_pv', 'bucket_elv_mtr_pwr_kw_pv' ]\n",
        "subset_df2 = df_norm_block1.loc[start_time:end_time, columns_of_interest2]\n",
        "\n",
        "# Compute the correlation matrix\n",
        "correlation_matrix2 = subset_df2.corr()\n",
        "\n",
        "# Create the heatmap\n",
        "plt.figure(figsize=(8, 7))\n",
        "#sns.heatmap(correlation_matrix2, annot=True, cmap='coolwarm', fmt=\".2f\", linewidths=0.5)\n",
        "sns.heatmap(correlation_matrix2[['mill_dp_mbar_pv']].sort_values(by = 'mill_dp_mbar_pv', ascending = False), annot=True, cmap='coolwarm', fmt=\".2f\", linewidths=0.5)\n",
        "\n",
        "# Add title\n",
        "plt.title('block2')\n",
        "\n",
        "# Save the heatmap at googledrive\n",
        "#file_path2 = '/content/drive/MyDrive/heatmap2.png'\n",
        "#plt.savefig(file_path2, bbox_inches='tight', pad_inches=0.1)"
      ],
      "metadata": {
        "id": "KsedQvcSBGmV",
        "colab": {
          "base_uri": "https://localhost:8080/",
          "height": 639
        },
        "outputId": "94da9fb0-e1c3-4593-f140-02d8ac9956aa"
      },
      "execution_count": null,
      "outputs": [
        {
          "output_type": "execute_result",
          "data": {
            "text/plain": [
              "Text(0.5, 1.0, 'block2')"
            ]
          },
          "metadata": {},
          "execution_count": 132
        },
        {
          "output_type": "display_data",
          "data": {
            "text/plain": [
              "<Figure size 800x700 with 2 Axes>"
            ],
            "image/png": "[encoded data removed]"
          },
          "metadata": {}
        }
      ]
    },
    {
      "cell_type": "code",
      "source": [
        "#statistical measures for correlation\n",
        "\n",
        "# Specify the start and end times for the slice\n",
        "#start_time = '2019-06-05 01:30:00'\n",
        "#end_time = '2019-06-05 09:30:00'\n",
        "\n",
        "# Select the columns of interest\n",
        "#columns_of_interest2 = ['mill_dp_mbar_pv', 'total_feed_ton/h_pv', 'fly_ash_1_ton/h_pv', 'fly_ash_2_ton/h_pv', 'main_fan_speed_rpm_pv', 'separator_speed_rpm_pv', 'grinding_pressure_bar_pv','mill_injection_water_m3/h_pv', 'bucket_elv_mtr_pwr_kw_pv']\n",
        "\n",
        "# Create a subset dataframe based on the specified timeframe\n",
        "#subset_df2 = df_Semester_noJulySeptember.loc[start_time:end_time, columns_of_interest2]\n",
        "\n",
        "# Calculate the correlation matrix\n",
        "#correlation_matrix2 = subset_df2.corr()\n",
        "\n",
        "# Display the correlation matrix\n",
        "print(correlation_matrix2)"
      ],
      "metadata": {
        "id": "euDwbmT9BOgX",
        "colab": {
          "base_uri": "https://localhost:8080/"
        },
        "outputId": "2f1e84af-4d73-4248-b6bb-0ea4e23caeec"
      },
      "execution_count": null,
      "outputs": [
        {
          "output_type": "stream",
          "name": "stdout",
          "text": [
            "                              mill_dp_mbar_pv  total_feed_ton/h_pv  \\\n",
            "mill_dp_mbar_pv                      1.000000             0.766507   \n",
            "total_feed_ton/h_pv                  0.766507             1.000000   \n",
            "fly_ash_1_ton/h_pv                   0.134555             0.400319   \n",
            "fly_ash_2_ton/h_pv                   0.122303             0.324747   \n",
            "main_fan_speed_rpm_pv                0.884932             0.644122   \n",
            "shifted_separator_speed              0.572746             0.429668   \n",
            "grinding_pressure_bar_pv             0.848387             0.893920   \n",
            "mill_injection_water_m3/h_pv         0.642286             0.870137   \n",
            "bucket_elv_mtr_pwr_kw_pv             0.772607             0.768222   \n",
            "\n",
            "                              fly_ash_1_ton/h_pv  fly_ash_2_ton/h_pv  \\\n",
            "mill_dp_mbar_pv                         0.134555            0.122303   \n",
            "total_feed_ton/h_pv                     0.400319            0.324747   \n",
            "fly_ash_1_ton/h_pv                      1.000000           -0.279294   \n",
            "fly_ash_2_ton/h_pv                     -0.279294            1.000000   \n",
            "main_fan_speed_rpm_pv                   0.094928            0.079801   \n",
            "shifted_separator_speed                -0.023881           -0.028270   \n",
            "grinding_pressure_bar_pv                0.214312            0.174356   \n",
            "mill_injection_water_m3/h_pv            0.417161            0.347842   \n",
            "bucket_elv_mtr_pwr_kw_pv                0.181952            0.157934   \n",
            "\n",
            "                              main_fan_speed_rpm_pv  shifted_separator_speed  \\\n",
            "mill_dp_mbar_pv                            0.884932                 0.572746   \n",
            "total_feed_ton/h_pv                        0.644122                 0.429668   \n",
            "fly_ash_1_ton/h_pv                         0.094928                -0.023881   \n",
            "fly_ash_2_ton/h_pv                         0.079801                -0.028270   \n",
            "main_fan_speed_rpm_pv                      1.000000                 0.414991   \n",
            "shifted_separator_speed                    0.414991                 1.000000   \n",
            "grinding_pressure_bar_pv                   0.720366                 0.586322   \n",
            "mill_injection_water_m3/h_pv               0.515215                 0.392151   \n",
            "bucket_elv_mtr_pwr_kw_pv                   0.688724                 0.474161   \n",
            "\n",
            "                              grinding_pressure_bar_pv  \\\n",
            "mill_dp_mbar_pv                               0.848387   \n",
            "total_feed_ton/h_pv                           0.893920   \n",
            "fly_ash_1_ton/h_pv                            0.214312   \n",
            "fly_ash_2_ton/h_pv                            0.174356   \n",
            "main_fan_speed_rpm_pv                         0.720366   \n",
            "shifted_separator_speed                       0.586322   \n",
            "grinding_pressure_bar_pv                      1.000000   \n",
            "mill_injection_water_m3/h_pv                  0.806268   \n",
            "bucket_elv_mtr_pwr_kw_pv                      0.798432   \n",
            "\n",
            "                              mill_injection_water_m3/h_pv  \\\n",
            "mill_dp_mbar_pv                                   0.642286   \n",
            "total_feed_ton/h_pv                               0.870137   \n",
            "fly_ash_1_ton/h_pv                                0.417161   \n",
            "fly_ash_2_ton/h_pv                                0.347842   \n",
            "main_fan_speed_rpm_pv                             0.515215   \n",
            "shifted_separator_speed                           0.392151   \n",
            "grinding_pressure_bar_pv                          0.806268   \n",
            "mill_injection_water_m3/h_pv                      1.000000   \n",
            "bucket_elv_mtr_pwr_kw_pv                          0.656693   \n",
            "\n",
            "                              bucket_elv_mtr_pwr_kw_pv  \n",
            "mill_dp_mbar_pv                               0.772607  \n",
            "total_feed_ton/h_pv                           0.768222  \n",
            "fly_ash_1_ton/h_pv                            0.181952  \n",
            "fly_ash_2_ton/h_pv                            0.157934  \n",
            "main_fan_speed_rpm_pv                         0.688724  \n",
            "shifted_separator_speed                       0.474161  \n",
            "grinding_pressure_bar_pv                      0.798432  \n",
            "mill_injection_water_m3/h_pv                  0.656693  \n",
            "bucket_elv_mtr_pwr_kw_pv                      1.000000  \n"
          ]
        }
      ]
    },
    {
      "cell_type": "markdown",
      "source": [
        "# 5 Main. Using the proposed input variables (and any other variable from the received dataset that you think is relevant) create a model that, given the operating conditions of the mill, can predict the output variable for the next 5 minutes, in 30 second intervals."
      ],
      "metadata": {
        "id": "wRV6fZsyh1IM"
      }
    },
    {
      "cell_type": "markdown",
      "source": [
        "### We end up with two different dataframes each for the two types of cement"
      ],
      "metadata": {
        "id": "JZZ8Hpo4T3WY"
      }
    },
    {
      "cell_type": "code",
      "source": [
        "df_cpii = df_norm_block1[df_norm_block1['cement_type_cpii_bool_pv'] == 1]\n",
        "df_cpiv = df_norm_block1[df_norm_block1['cement_type_cpiv_bool_pv'] == 1]"
      ],
      "metadata": {
        "id": "qJGb_QITTAFj"
      },
      "execution_count": null,
      "outputs": []
    },
    {
      "cell_type": "markdown",
      "source": [
        "### Machine Learning"
      ],
      "metadata": {
        "id": "R6L2g07bUDxM"
      }
    },
    {
      "cell_type": "code",
      "source": [
        "from xgboost import XGBRegressor\n",
        "from sklearn.ensemble import RandomForestRegressor\n",
        "from sklearn.linear_model import LinearRegression\n",
        "from sklearn.linear_model import Ridge\n",
        "from sklearn.linear_model import Lasso\n",
        "from sklearn.linear_model import ElasticNet\n",
        "from sklearn.linear_model import BayesianRidge\n",
        "from sklearn.svm import SVR\n",
        "from sklearn.dummy import DummyRegressor\n",
        "from sklearn.neighbors import KNeighborsRegressor\n",
        "from sklearn.metrics import mean_squared_error\n",
        "from sklearn.preprocessing import StandardScaler\n",
        "from sklearn.model_selection import train_test_split\n",
        "from sklearn.model_selection import GridSearchCV\n",
        "\n",
        "from sklearn.metrics import mean_absolute_error, mean_squared_error, mean_absolute_percentage_error\n",
        "from sklearn.model_selection import train_test_split"
      ],
      "metadata": {
        "id": "AGDAACppR3FS"
      },
      "execution_count": null,
      "outputs": []
    },
    {
      "cell_type": "code",
      "source": [
        "def split_data(df, input_variables, output_variable):\n",
        "    X = df[input_variables]\n",
        "    y = df[output_variable]\n",
        "    X_train, X_test, y_train, y_test = train_test_split(X, y, test_size=0.2)\n",
        "    return X_train, X_test, y_train, y_test\n",
        "\n",
        "def run_xgboost_regression(X_train, X_test, y_train, y_test):\n",
        "    model = xgb.XGBRegressor()\n",
        "    model.fit(X_train, y_train)\n",
        "    predictions = model.predict(X_test)\n",
        "    mae = mean_absolute_error(y_test, predictions)\n",
        "    mse = mean_squared_error(y_test, predictions)\n",
        "    mape = mean_absolute_percentage_error(y_test, predictions)\n",
        "    return mae, mse, mape\n",
        "\n",
        "def run_random_forest_regression(X_train, X_test, y_train, y_test):\n",
        "    model = RandomForestRegressor()\n",
        "    model.fit(X_train, y_train)\n",
        "    predictions = model.predict(X_test)\n",
        "    mae = mean_absolute_error(y_test, predictions)\n",
        "    mse = mean_squared_error(y_test, predictions)\n",
        "    mape = mean_absolute_percentage_error(y_test, predictions)\n",
        "    return mae, mse, mape\n",
        "\n",
        "def run_linear_regression(X_train, X_test, y_train, y_test):\n",
        "    model = LinearRegression()\n",
        "    model.fit(X_train, y_train)\n",
        "    predictions = model.predict(X_test)\n",
        "    mae = mean_absolute_error(y_test, predictions)\n",
        "    mse = mean_squared_error(y_test, predictions)\n",
        "    mape = mean_absolute_percentage_error(y_test, predictions)\n",
        "    return mae, mse, mape\n",
        "\n",
        "def run_ridge_regression(X_train, X_test, y_train, y_test):\n",
        "    model = Ridge()\n",
        "    model.fit(X_train, y_train)\n",
        "    predictions = model.predict(X_test)\n",
        "    mae = mean_absolute_error(y_test, predictions)\n",
        "    mse = mean_squared_error(y_test, predictions)\n",
        "    mape = mean_absolute_percentage_error(y_test, predictions)\n",
        "    return mae, mse, mape\n",
        "\n",
        "def run_lasso_regression(X_train, X_test, y_train, y_test):\n",
        "    model = Lasso()\n",
        "    model.fit(X_train, y_train)\n",
        "    predictions = model.predict(X_test)\n",
        "    mae = mean_absolute_error(y_test, predictions)\n",
        "    mse = mean_squared_error(y_test, predictions)\n",
        "    mape = mean_absolute_percentage_error(y_test, predictions)\n",
        "    return mae, mse, mape\n",
        "\n",
        "def run_elasticnet_regression(X_train, X_test, y_train, y_test):\n",
        "    model = ElasticNet()\n",
        "    model.fit(X_train, y_train)\n",
        "    predictions = model.predict(X_test)\n",
        "    mae = mean_absolute_error(y_test, predictions)\n",
        "    mse = mean_squared_error(y_test, predictions)\n",
        "    mape = mean_absolute_percentage_error(y_test, predictions)\n",
        "    return mae, mse, mape\n",
        "\n",
        "def run_svr(X_train, X_test, y_train, y_test):\n",
        "    scaler = StandardScaler()\n",
        "    X_train_scaled = scaler.fit_transform(X_train)\n",
        "    X_test_scaled = scaler.transform(X_test)\n",
        "    model = SVR()\n",
        "    model.fit(X_train_scaled, y_train)\n",
        "    predictions = model.predict(X_test_scaled)\n",
        "    mae = mean_absolute_error(y_test, predictions)\n",
        "    mse = mean_squared_error(y_test, predictions)\n",
        "    mape = mean_absolute_percentage_error(y_test, predictions)\n",
        "    return mae, mse, mape"
      ],
      "metadata": {
        "id": "6g5C8zjsRtqp"
      },
      "execution_count": null,
      "outputs": []
    },
    {
      "cell_type": "markdown",
      "source": [
        "### Block 1"
      ],
      "metadata": {
        "id": "iHdBwgd5WYfG"
      }
    },
    {
      "cell_type": "markdown",
      "source": [
        "#### cpii"
      ],
      "metadata": {
        "id": "HKC5i8QtWcpN"
      }
    },
    {
      "cell_type": "code",
      "source": [
        "block_1_inputs = df_cpii[['shifted_separator_speed', 'shifted_mill']].fillna(df_cpii[['shifted_separator_speed', 'shifted_mill']].mean())\n",
        "block_1_output = df_cpii['separator_pwr_kw_pv']"
      ],
      "metadata": {
        "id": "dVEYBhgZWsYP"
      },
      "execution_count": null,
      "outputs": []
    },
    {
      "cell_type": "code",
      "source": [
        "X = block_1_inputs\n",
        "y = block_1_output"
      ],
      "metadata": {
        "id": "Cwpe3lcdXW3n"
      },
      "execution_count": null,
      "outputs": []
    },
    {
      "cell_type": "code",
      "source": [
        "# X_train, X_test, y_train, y_test = train_test_split(X, y, test_size=0.2)\n",
        "\n",
        "# Extracting the last 10 rows for y_test\n",
        "X_test = X.iloc[-10:]\n",
        "y_test = y.iloc[-10:]\n",
        "\n",
        "# Extracting the rest of the data for x_train\n",
        "X_train = X.iloc[:-10]\n",
        "y_train = y.iloc[:-10]\n",
        "\n",
        "# Splitting x_train into x_train and x_val\n",
        "X_train, X_val, y_train, y_val = train_test_split(X_train, y_train, test_size=0.2, shuffle=False)"
      ],
      "metadata": {
        "id": "vH5IzJEqRuDt"
      },
      "execution_count": null,
      "outputs": []
    },
    {
      "cell_type": "code",
      "source": [
        "regressors = {\n",
        "    'Dummy': DummyRegressor(),\n",
        "    'BayesianRidge': BayesianRidge(),\n",
        "    'XGB': XGBRegressor(),\n",
        "    'RandomForestRegressor': RandomForestRegressor(),\n",
        "    'LinearRegression': LinearRegression(),\n",
        "    'Ridge': Ridge(),\n",
        "    'KNeighborsRegressor': KNeighborsRegressor(),\n",
        "    'ElasticNet': ElasticNet(),\n",
        "    'Lasso': Lasso()\n",
        "}\n",
        "\n",
        "\n",
        "for name, model in regressors.items():\n",
        "    model.fit(X_train, y_train)\n",
        "    y_pred = model.predict(X_test)\n",
        "    print(f'{name : >20} - MSE: {mean_squared_error(y_test, y_pred):.3f},\\\n",
        "     MAPE: {(mean_absolute_percentage_error(y_test, y_pred))*100:.3f}%')"
      ],
      "metadata": {
        "colab": {
          "base_uri": "https://localhost:8080/"
        },
        "id": "fZKmU73qYQUC",
        "outputId": "ad76ce14-7c68-420e-bf13-bf2b929f3da6"
      },
      "execution_count": null,
      "outputs": [
        {
          "output_type": "stream",
          "name": "stdout",
          "text": [
            "               Dummy - MSE: 0.435,     MAPE: 0.909%\n",
            "       BayesianRidge - MSE: 0.364,     MAPE: 0.748%\n",
            "                 XGB - MSE: 0.671,     MAPE: 1.175%\n",
            "RandomForestRegressor - MSE: 2.397,     MAPE: 1.901%\n",
            "    LinearRegression - MSE: 0.364,     MAPE: 0.748%\n",
            "               Ridge - MSE: 0.364,     MAPE: 0.748%\n",
            " KNeighborsRegressor - MSE: 0.532,     MAPE: 1.004%\n",
            "          ElasticNet - MSE: 0.406,     MAPE: 0.784%\n",
            "               Lasso - MSE: 0.444,     MAPE: 0.813%\n"
          ]
        }
      ]
    },
    {
      "cell_type": "code",
      "source": [
        "hyperparams = {\n",
        "    'n_iter': [200, 300, 400],\n",
        "}\n",
        "\n",
        "alg = BayesianRidge()\n",
        "\n",
        "gs = GridSearchCV(alg, hyperparams)\n",
        "\n",
        "gs.fit(X_train, y_train)"
      ],
      "metadata": {
        "colab": {
          "base_uri": "https://localhost:8080/",
          "height": 118
        },
        "id": "FgfsQDRinfNQ",
        "outputId": "af3b9c6d-f476-4bf2-80cc-5edc58ef1215"
      },
      "execution_count": null,
      "outputs": [
        {
          "output_type": "execute_result",
          "data": {
            "text/plain": [
              "GridSearchCV(estimator=BayesianRidge(), param_grid={'n_iter': [200, 300, 400]})"
            ],
            "text/html": [
              "<style>#sk-container-id-2 {color: black;background-color: white;}#sk-container-id-2 pre{padding: 0;}#sk-container-id-2 div.sk-toggleable {background-color: white;}#sk-container-id-2 label.sk-toggleable__label {cursor: pointer;display: block;width: 100%;margin-bottom: 0;padding: 0.3em;box-sizing: border-box;text-align: center;}#sk-container-id-2 label.sk-toggleable__label-arrow:before {content: \"▸\";float: left;margin-right: 0.25em;color: #696969;}#sk-container-id-2 label.sk-toggleable__label-arrow:hover:before {color: black;}#sk-container-id-2 div.sk-estimator:hover label.sk-toggleable__label-arrow:before {color: black;}#sk-container-id-2 div.sk-toggleable__content {max-height: 0;max-width: 0;overflow: hidden;text-align: left;background-color: #f0f8ff;}#sk-container-id-2 div.sk-toggleable__content pre {margin: 0.2em;color: black;border-radius: 0.25em;background-color: #f0f8ff;}#sk-container-id-2 input.sk-toggleable__control:checked~div.sk-toggleable__content {max-height: 200px;max-width: 100%;overflow: auto;}#sk-container-id-2 input.sk-toggleable__control:checked~label.sk-toggleable__label-arrow:before {content: \"▾\";}#sk-container-id-2 div.sk-estimator input.sk-toggleable__control:checked~label.sk-toggleable__label {background-color: #d4ebff;}#sk-container-id-2 div.sk-label input.sk-toggleable__control:checked~label.sk-toggleable__label {background-color: #d4ebff;}#sk-container-id-2 input.sk-hidden--visually {border: 0;clip: rect(1px 1px 1px 1px);clip: rect(1px, 1px, 1px, 1px);height: 1px;margin: -1px;overflow: hidden;padding: 0;position: absolute;width: 1px;}#sk-container-id-2 div.sk-estimator {font-family: monospace;background-color: #f0f8ff;border: 1px dotted black;border-radius: 0.25em;box-sizing: border-box;margin-bottom: 0.5em;}#sk-container-id-2 div.sk-estimator:hover {background-color: #d4ebff;}#sk-container-id-2 div.sk-parallel-item::after {content: \"\";width: 100%;border-bottom: 1px solid gray;flex-grow: 1;}#sk-container-id-2 div.sk-label:hover label.sk-toggleable__label {background-color: #d4ebff;}#sk-container-id-2 div.sk-serial::before {content: \"\";position: absolute;border-left: 1px solid gray;box-sizing: border-box;top: 0;bottom: 0;left: 50%;z-index: 0;}#sk-container-id-2 div.sk-serial {display: flex;flex-direction: column;align-items: center;background-color: white;padding-right: 0.2em;padding-left: 0.2em;position: relative;}#sk-container-id-2 div.sk-item {position: relative;z-index: 1;}#sk-container-id-2 div.sk-parallel {display: flex;align-items: stretch;justify-content: center;background-color: white;position: relative;}#sk-container-id-2 div.sk-item::before, #sk-container-id-2 div.sk-parallel-item::before {content: \"\";position: absolute;border-left: 1px solid gray;box-sizing: border-box;top: 0;bottom: 0;left: 50%;z-index: -1;}#sk-container-id-2 div.sk-parallel-item {display: flex;flex-direction: column;z-index: 1;position: relative;background-color: white;}#sk-container-id-2 div.sk-parallel-item:first-child::after {align-self: flex-end;width: 50%;}#sk-container-id-2 div.sk-parallel-item:last-child::after {align-self: flex-start;width: 50%;}#sk-container-id-2 div.sk-parallel-item:only-child::after {width: 0;}#sk-container-id-2 div.sk-dashed-wrapped {border: 1px dashed gray;margin: 0 0.4em 0.5em 0.4em;box-sizing: border-box;padding-bottom: 0.4em;background-color: white;}#sk-container-id-2 div.sk-label label {font-family: monospace;font-weight: bold;display: inline-block;line-height: 1.2em;}#sk-container-id-2 div.sk-label-container {text-align: center;}#sk-container-id-2 div.sk-container {/* jupyter's `normalize.less` sets `[hidden] { display: none; }` but bootstrap.min.css set `[hidden] { display: none !important; }` so we also need the `!important` here to be able to override the default hidden behavior on the sphinx rendered scikit-learn.org. See: https://github.com/scikit-learn/scikit-learn/issues/21755 */display: inline-block !important;position: relative;}#sk-container-id-2 div.sk-text-repr-fallback {display: none;}</style><div id=\"sk-container-id-2\" class=\"sk-top-container\"><div class=\"sk-text-repr-fallback\"><pre>GridSearchCV(estimator=BayesianRidge(), param_grid={&#x27;n_iter&#x27;: [200, 300, 400]})</pre><b>In a Jupyter environment, please rerun this cell to show the HTML representation or trust the notebook. <br />On GitHub, the HTML representation is unable to render, please try loading this page with nbviewer.org.</b></div><div class=\"sk-container\" hidden><div class=\"sk-item sk-dashed-wrapped\"><div class=\"sk-label-container\"><div class=\"sk-label sk-toggleable\"><input class=\"sk-toggleable__control sk-hidden--visually\" id=\"sk-estimator-id-4\" type=\"checkbox\" ><label for=\"sk-estimator-id-4\" class=\"sk-toggleable__label sk-toggleable__label-arrow\">GridSearchCV</label><div class=\"sk-toggleable__content\"><pre>GridSearchCV(estimator=BayesianRidge(), param_grid={&#x27;n_iter&#x27;: [200, 300, 400]})</pre></div></div></div><div class=\"sk-parallel\"><div class=\"sk-parallel-item\"><div class=\"sk-item\"><div class=\"sk-label-container\"><div class=\"sk-label sk-toggleable\"><input class=\"sk-toggleable__control sk-hidden--visually\" id=\"sk-estimator-id-5\" type=\"checkbox\" ><label for=\"sk-estimator-id-5\" class=\"sk-toggleable__label sk-toggleable__label-arrow\">estimator: BayesianRidge</label><div class=\"sk-toggleable__content\"><pre>BayesianRidge()</pre></div></div></div><div class=\"sk-serial\"><div class=\"sk-item\"><div class=\"sk-estimator sk-toggleable\"><input class=\"sk-toggleable__control sk-hidden--visually\" id=\"sk-estimator-id-6\" type=\"checkbox\" ><label for=\"sk-estimator-id-6\" class=\"sk-toggleable__label sk-toggleable__label-arrow\">BayesianRidge</label><div class=\"sk-toggleable__content\"><pre>BayesianRidge()</pre></div></div></div></div></div></div></div></div></div></div>"
            ]
          },
          "metadata": {},
          "execution_count": 27
        }
      ]
    },
    {
      "cell_type": "code",
      "source": [
        "gs.best_params_"
      ],
      "metadata": {
        "colab": {
          "base_uri": "https://localhost:8080/"
        },
        "id": "x6OSYhdWp6Jv",
        "outputId": "05da6d52-f115-4f42-f7de-0275f0e66249"
      },
      "execution_count": null,
      "outputs": [
        {
          "output_type": "execute_result",
          "data": {
            "text/plain": [
              "{'n_iter': 200}"
            ]
          },
          "metadata": {},
          "execution_count": 32
        }
      ]
    },
    {
      "cell_type": "markdown",
      "source": [
        "##### Validation for BayesianRidge"
      ],
      "metadata": {
        "id": "nxNHmev3xsrb"
      }
    },
    {
      "cell_type": "code",
      "source": [
        "model = BayesianRidge(n_iter= 200)\n",
        "model.fit(X_train, y_train)\n",
        "y_pred = model.predict(X_val)\n",
        "print(f'MSE: {mean_squared_error(y_val, y_pred):.3f},\\\n",
        "  MAPE: {(mean_absolute_percentage_error(y_val, y_pred))*100:.3f}%')"
      ],
      "metadata": {
        "colab": {
          "base_uri": "https://localhost:8080/"
        },
        "id": "TxhofzRFxg4j",
        "outputId": "d3d8b563-bd3e-46f3-edcf-864a50bd3fe8"
      },
      "execution_count": null,
      "outputs": [
        {
          "output_type": "stream",
          "name": "stdout",
          "text": [
            "MSE: 4.664,  MAPE: 1.868%\n"
          ]
        }
      ]
    },
    {
      "cell_type": "code",
      "source": [
        "hyperparams = {\n",
        "    'n_estimators': [100, 200, 300],\n",
        "\n",
        "}\n",
        "\n",
        "alg = XGBRegressor()\n",
        "\n",
        "gs = GridSearchCV(alg, hyperparams)\n",
        "\n",
        "gs.fit(X_train, y_train)"
      ],
      "metadata": {
        "colab": {
          "base_uri": "https://localhost:8080/",
          "height": 118
        },
        "id": "dL5coNoSqAa-",
        "outputId": "72eef62b-c340-4cc5-ccf4-6d099439f112"
      },
      "execution_count": null,
      "outputs": [
        {
          "output_type": "execute_result",
          "data": {
            "text/plain": [
              "GridSearchCV(estimator=XGBRegressor(base_score=None, booster=None,\n",
              "                                    callbacks=None, colsample_bylevel=None,\n",
              "                                    colsample_bynode=None,\n",
              "                                    colsample_bytree=None,\n",
              "                                    early_stopping_rounds=None,\n",
              "                                    enable_categorical=False, eval_metric=None,\n",
              "                                    feature_types=None, gamma=None, gpu_id=None,\n",
              "                                    grow_policy=None, importance_type=None,\n",
              "                                    interaction_constraints=None,\n",
              "                                    learning_rate=None, max_bin=None,\n",
              "                                    max_cat_threshold=None,\n",
              "                                    max_cat_to_onehot=None, max_delta_step=None,\n",
              "                                    max_depth=None, max_leaves=None,\n",
              "                                    min_child_weight=None, missing=nan,\n",
              "                                    monotone_constraints=None, n_estimators=100,\n",
              "                                    n_jobs=None, num_parallel_tree=None,\n",
              "                                    predictor=None, random_state=None, ...),\n",
              "             param_grid={'n_estimators': [100, 200, 300]})"
            ],
            "text/html": [
              "<style>#sk-container-id-3 {color: black;background-color: white;}#sk-container-id-3 pre{padding: 0;}#sk-container-id-3 div.sk-toggleable {background-color: white;}#sk-container-id-3 label.sk-toggleable__label {cursor: pointer;display: block;width: 100%;margin-bottom: 0;padding: 0.3em;box-sizing: border-box;text-align: center;}#sk-container-id-3 label.sk-toggleable__label-arrow:before {content: \"▸\";float: left;margin-right: 0.25em;color: #696969;}#sk-container-id-3 label.sk-toggleable__label-arrow:hover:before {color: black;}#sk-container-id-3 div.sk-estimator:hover label.sk-toggleable__label-arrow:before {color: black;}#sk-container-id-3 div.sk-toggleable__content {max-height: 0;max-width: 0;overflow: hidden;text-align: left;background-color: #f0f8ff;}#sk-container-id-3 div.sk-toggleable__content pre {margin: 0.2em;color: black;border-radius: 0.25em;background-color: #f0f8ff;}#sk-container-id-3 input.sk-toggleable__control:checked~div.sk-toggleable__content {max-height: 200px;max-width: 100%;overflow: auto;}#sk-container-id-3 input.sk-toggleable__control:checked~label.sk-toggleable__label-arrow:before {content: \"▾\";}#sk-container-id-3 div.sk-estimator input.sk-toggleable__control:checked~label.sk-toggleable__label {background-color: #d4ebff;}#sk-container-id-3 div.sk-label input.sk-toggleable__control:checked~label.sk-toggleable__label {background-color: #d4ebff;}#sk-container-id-3 input.sk-hidden--visually {border: 0;clip: rect(1px 1px 1px 1px);clip: rect(1px, 1px, 1px, 1px);height: 1px;margin: -1px;overflow: hidden;padding: 0;position: absolute;width: 1px;}#sk-container-id-3 div.sk-estimator {font-family: monospace;background-color: #f0f8ff;border: 1px dotted black;border-radius: 0.25em;box-sizing: border-box;margin-bottom: 0.5em;}#sk-container-id-3 div.sk-estimator:hover {background-color: #d4ebff;}#sk-container-id-3 div.sk-parallel-item::after {content: \"\";width: 100%;border-bottom: 1px solid gray;flex-grow: 1;}#sk-container-id-3 div.sk-label:hover label.sk-toggleable__label {background-color: #d4ebff;}#sk-container-id-3 div.sk-serial::before {content: \"\";position: absolute;border-left: 1px solid gray;box-sizing: border-box;top: 0;bottom: 0;left: 50%;z-index: 0;}#sk-container-id-3 div.sk-serial {display: flex;flex-direction: column;align-items: center;background-color: white;padding-right: 0.2em;padding-left: 0.2em;position: relative;}#sk-container-id-3 div.sk-item {position: relative;z-index: 1;}#sk-container-id-3 div.sk-parallel {display: flex;align-items: stretch;justify-content: center;background-color: white;position: relative;}#sk-container-id-3 div.sk-item::before, #sk-container-id-3 div.sk-parallel-item::before {content: \"\";position: absolute;border-left: 1px solid gray;box-sizing: border-box;top: 0;bottom: 0;left: 50%;z-index: -1;}#sk-container-id-3 div.sk-parallel-item {display: flex;flex-direction: column;z-index: 1;position: relative;background-color: white;}#sk-container-id-3 div.sk-parallel-item:first-child::after {align-self: flex-end;width: 50%;}#sk-container-id-3 div.sk-parallel-item:last-child::after {align-self: flex-start;width: 50%;}#sk-container-id-3 div.sk-parallel-item:only-child::after {width: 0;}#sk-container-id-3 div.sk-dashed-wrapped {border: 1px dashed gray;margin: 0 0.4em 0.5em 0.4em;box-sizing: border-box;padding-bottom: 0.4em;background-color: white;}#sk-container-id-3 div.sk-label label {font-family: monospace;font-weight: bold;display: inline-block;line-height: 1.2em;}#sk-container-id-3 div.sk-label-container {text-align: center;}#sk-container-id-3 div.sk-container {/* jupyter's `normalize.less` sets `[hidden] { display: none; }` but bootstrap.min.css set `[hidden] { display: none !important; }` so we also need the `!important` here to be able to override the default hidden behavior on the sphinx rendered scikit-learn.org. See: https://github.com/scikit-learn/scikit-learn/issues/21755 */display: inline-block !important;position: relative;}#sk-container-id-3 div.sk-text-repr-fallback {display: none;}</style><div id=\"sk-container-id-3\" class=\"sk-top-container\"><div class=\"sk-text-repr-fallback\"><pre>GridSearchCV(estimator=XGBRegressor(base_score=None, booster=None,\n",
              "                                    callbacks=None, colsample_bylevel=None,\n",
              "                                    colsample_bynode=None,\n",
              "                                    colsample_bytree=None,\n",
              "                                    early_stopping_rounds=None,\n",
              "                                    enable_categorical=False, eval_metric=None,\n",
              "                                    feature_types=None, gamma=None, gpu_id=None,\n",
              "                                    grow_policy=None, importance_type=None,\n",
              "                                    interaction_constraints=None,\n",
              "                                    learning_rate=None, max_bin=None,\n",
              "                                    max_cat_threshold=None,\n",
              "                                    max_cat_to_onehot=None, max_delta_step=None,\n",
              "                                    max_depth=None, max_leaves=None,\n",
              "                                    min_child_weight=None, missing=nan,\n",
              "                                    monotone_constraints=None, n_estimators=100,\n",
              "                                    n_jobs=None, num_parallel_tree=None,\n",
              "                                    predictor=None, random_state=None, ...),\n",
              "             param_grid={&#x27;n_estimators&#x27;: [100, 200, 300]})</pre><b>In a Jupyter environment, please rerun this cell to show the HTML representation or trust the notebook. <br />On GitHub, the HTML representation is unable to render, please try loading this page with nbviewer.org.</b></div><div class=\"sk-container\" hidden><div class=\"sk-item sk-dashed-wrapped\"><div class=\"sk-label-container\"><div class=\"sk-label sk-toggleable\"><input class=\"sk-toggleable__control sk-hidden--visually\" id=\"sk-estimator-id-7\" type=\"checkbox\" ><label for=\"sk-estimator-id-7\" class=\"sk-toggleable__label sk-toggleable__label-arrow\">GridSearchCV</label><div class=\"sk-toggleable__content\"><pre>GridSearchCV(estimator=XGBRegressor(base_score=None, booster=None,\n",
              "                                    callbacks=None, colsample_bylevel=None,\n",
              "                                    colsample_bynode=None,\n",
              "                                    colsample_bytree=None,\n",
              "                                    early_stopping_rounds=None,\n",
              "                                    enable_categorical=False, eval_metric=None,\n",
              "                                    feature_types=None, gamma=None, gpu_id=None,\n",
              "                                    grow_policy=None, importance_type=None,\n",
              "                                    interaction_constraints=None,\n",
              "                                    learning_rate=None, max_bin=None,\n",
              "                                    max_cat_threshold=None,\n",
              "                                    max_cat_to_onehot=None, max_delta_step=None,\n",
              "                                    max_depth=None, max_leaves=None,\n",
              "                                    min_child_weight=None, missing=nan,\n",
              "                                    monotone_constraints=None, n_estimators=100,\n",
              "                                    n_jobs=None, num_parallel_tree=None,\n",
              "                                    predictor=None, random_state=None, ...),\n",
              "             param_grid={&#x27;n_estimators&#x27;: [100, 200, 300]})</pre></div></div></div><div class=\"sk-parallel\"><div class=\"sk-parallel-item\"><div class=\"sk-item\"><div class=\"sk-label-container\"><div class=\"sk-label sk-toggleable\"><input class=\"sk-toggleable__control sk-hidden--visually\" id=\"sk-estimator-id-8\" type=\"checkbox\" ><label for=\"sk-estimator-id-8\" class=\"sk-toggleable__label sk-toggleable__label-arrow\">estimator: XGBRegressor</label><div class=\"sk-toggleable__content\"><pre>XGBRegressor(base_score=None, booster=None, callbacks=None,\n",
              "             colsample_bylevel=None, colsample_bynode=None,\n",
              "             colsample_bytree=None, early_stopping_rounds=None,\n",
              "             enable_categorical=False, eval_metric=None, feature_types=None,\n",
              "             gamma=None, gpu_id=None, grow_policy=None, importance_type=None,\n",
              "             interaction_constraints=None, learning_rate=None, max_bin=None,\n",
              "             max_cat_threshold=None, max_cat_to_onehot=None,\n",
              "             max_delta_step=None, max_depth=None, max_leaves=None,\n",
              "             min_child_weight=None, missing=nan, monotone_constraints=None,\n",
              "             n_estimators=100, n_jobs=None, num_parallel_tree=None,\n",
              "             predictor=None, random_state=None, ...)</pre></div></div></div><div class=\"sk-serial\"><div class=\"sk-item\"><div class=\"sk-estimator sk-toggleable\"><input class=\"sk-toggleable__control sk-hidden--visually\" id=\"sk-estimator-id-9\" type=\"checkbox\" ><label for=\"sk-estimator-id-9\" class=\"sk-toggleable__label sk-toggleable__label-arrow\">XGBRegressor</label><div class=\"sk-toggleable__content\"><pre>XGBRegressor(base_score=None, booster=None, callbacks=None,\n",
              "             colsample_bylevel=None, colsample_bynode=None,\n",
              "             colsample_bytree=None, early_stopping_rounds=None,\n",
              "             enable_categorical=False, eval_metric=None, feature_types=None,\n",
              "             gamma=None, gpu_id=None, grow_policy=None, importance_type=None,\n",
              "             interaction_constraints=None, learning_rate=None, max_bin=None,\n",
              "             max_cat_threshold=None, max_cat_to_onehot=None,\n",
              "             max_delta_step=None, max_depth=None, max_leaves=None,\n",
              "             min_child_weight=None, missing=nan, monotone_constraints=None,\n",
              "             n_estimators=100, n_jobs=None, num_parallel_tree=None,\n",
              "             predictor=None, random_state=None, ...)</pre></div></div></div></div></div></div></div></div></div></div>"
            ]
          },
          "metadata": {},
          "execution_count": 34
        }
      ]
    },
    {
      "cell_type": "code",
      "source": [
        "gs.best_params_"
      ],
      "metadata": {
        "colab": {
          "base_uri": "https://localhost:8080/"
        },
        "id": "DYEKRgjgi2Mn",
        "outputId": "451a3d98-c23a-4f33-bfd8-ae2f3f108ff3"
      },
      "execution_count": null,
      "outputs": [
        {
          "output_type": "execute_result",
          "data": {
            "text/plain": [
              "{'n_estimators': 100}"
            ]
          },
          "metadata": {},
          "execution_count": 35
        }
      ]
    },
    {
      "cell_type": "markdown",
      "source": [
        "##### Validation for XGBRegressor"
      ],
      "metadata": {
        "id": "EFbR4qaGx79L"
      }
    },
    {
      "cell_type": "code",
      "source": [
        "model = XGBRegressor(n_estimators = 100)\n",
        "model.fit(X_train, y_train)\n",
        "y_pred = model.predict(X_val)\n",
        "print(f'MSE: {mean_squared_error(y_val, y_pred):.3f},\\\n",
        "  MAPE: {(mean_absolute_percentage_error(y_val, y_pred))*100:.3f}%')"
      ],
      "metadata": {
        "colab": {
          "base_uri": "https://localhost:8080/"
        },
        "id": "Ky-Ze4Avi39L",
        "outputId": "f1f7e18b-a4c7-44b8-eb5f-b3b0c3ebc40f"
      },
      "execution_count": null,
      "outputs": [
        {
          "output_type": "stream",
          "name": "stdout",
          "text": [
            "MSE: 4.655,  MAPE: 1.776%\n"
          ]
        }
      ]
    },
    {
      "cell_type": "code",
      "source": [
        "plot_correlation(y_val, y_pred)"
      ],
      "metadata": {
        "colab": {
          "base_uri": "https://localhost:8080/",
          "height": 604
        },
        "id": "1xSI_CJX3OUK",
        "outputId": "f6d37aa0-3a34-4e17-e4ac-64b0fc2c83fe"
      },
      "execution_count": null,
      "outputs": [
        {
          "output_type": "display_data",
          "data": {
            "text/plain": [
              "<Figure size 800x600 with 2 Axes>"
            ],
            "image/png": "[encoded data removed]"
          },
          "metadata": {}
        },
        {
          "output_type": "stream",
          "name": "stdout",
          "text": [
            "Correlation Coefficient: 0.3865\n"
          ]
        }
      ]
    },
    {
      "cell_type": "markdown",
      "source": [
        "#### cpiv"
      ],
      "metadata": {
        "id": "BmdnbnBpe0UB"
      }
    },
    {
      "cell_type": "code",
      "source": [
        "block_1_inputs = df_cpiv[['shifted_separator_speed', 'shifted_mill']].fillna(df_cpiv[['shifted_separator_speed', 'shifted_mill']].mean())\n",
        "block_1_output = df_cpiv['separator_pwr_kw_pv']"
      ],
      "metadata": {
        "id": "neawPOwN7F3y"
      },
      "execution_count": null,
      "outputs": []
    },
    {
      "cell_type": "code",
      "source": [
        "X = block_1_inputs\n",
        "y = block_1_output"
      ],
      "metadata": {
        "id": "dcz6B1h7e48b"
      },
      "execution_count": null,
      "outputs": []
    },
    {
      "cell_type": "code",
      "source": [
        " #X_train, X_test, y_train, y_test = train_test_split(X, y, test_size=0.2)\n",
        "\n",
        " # Extracting the last 10 rows for y_test\n",
        "X_test = X.iloc[-10:]\n",
        "y_test = y.iloc[-10:]\n",
        "\n",
        "# Extracting the rest of the data for x_train\n",
        "X_train = X.iloc[:-10]\n",
        "y_train = y.iloc[:-10]\n",
        "\n",
        "# Splitting x_train into x_train and x_val\n",
        "X_train, X_val, y_train, y_val = train_test_split(X_train, y_train, test_size=0.2, shuffle=False)"
      ],
      "metadata": {
        "id": "3_xf8RVGe4_I"
      },
      "execution_count": null,
      "outputs": []
    },
    {
      "cell_type": "code",
      "source": [
        "regressors = {\n",
        "    'Dummy': DummyRegressor(),\n",
        "    'BayesianRidge': BayesianRidge(),\n",
        "    'XGB': XGBRegressor(),\n",
        "    'RandomForestRegressor': RandomForestRegressor(),\n",
        "    'LinearRegression': LinearRegression(),\n",
        "    'Ridge': Ridge(),\n",
        "    'KNeighborsRegressor': KNeighborsRegressor(),\n",
        "    'ElasticNet': ElasticNet(),\n",
        "    'Lasso': Lasso()\n",
        "}\n",
        "\n",
        "\n",
        "for name, model in regressors.items():\n",
        "    model.fit(X_train, y_train)\n",
        "    y_pred = model.predict(X_test)\n",
        "    print(f'{name : >20} - MSE: {mean_squared_error(y_test, y_pred):.3f},\\\n",
        "     MAPE: {(mean_absolute_percentage_error(y_test, y_pred))*100:.3f}%')"
      ],
      "metadata": {
        "colab": {
          "base_uri": "https://localhost:8080/"
        },
        "id": "gM7U4JiSe5B7",
        "outputId": "e1193a64-d0c7-4ec0-d852-4e3174fd4326"
      },
      "execution_count": null,
      "outputs": [
        {
          "output_type": "stream",
          "name": "stdout",
          "text": [
            "               Dummy - MSE: 0.769,     MAPE: 1.275%\n",
            "       BayesianRidge - MSE: 1.644,     MAPE: 2.009%\n",
            "                 XGB - MSE: 4.541,     MAPE: 2.352%\n",
            "RandomForestRegressor - MSE: 0.908,     MAPE: 1.348%\n",
            "    LinearRegression - MSE: 1.644,     MAPE: 2.009%\n",
            "               Ridge - MSE: 1.644,     MAPE: 2.009%\n",
            " KNeighborsRegressor - MSE: 0.444,     MAPE: 0.953%\n",
            "          ElasticNet - MSE: 1.473,     MAPE: 1.867%\n",
            "               Lasso - MSE: 1.335,     MAPE: 1.743%\n"
          ]
        }
      ]
    },
    {
      "cell_type": "code",
      "source": [
        "hyperparams = {\n",
        "    'n_iter': [200, 300, 400],\n",
        "}\n",
        "\n",
        "alg = BayesianRidge()\n",
        "\n",
        "gs = GridSearchCV(alg, hyperparams)\n",
        "\n",
        "gs.fit(X_train, y_train)"
      ],
      "metadata": {
        "colab": {
          "base_uri": "https://localhost:8080/",
          "height": 118
        },
        "id": "RXGwPUdJs116",
        "outputId": "57e72bd2-4b32-40d0-a4ad-fe7a3e15e6bd"
      },
      "execution_count": null,
      "outputs": [
        {
          "output_type": "execute_result",
          "data": {
            "text/plain": [
              "GridSearchCV(estimator=BayesianRidge(), param_grid={'n_iter': [200, 300, 400]})"
            ],
            "text/html": [
              "<style>#sk-container-id-1 {color: black;background-color: white;}#sk-container-id-1 pre{padding: 0;}#sk-container-id-1 div.sk-toggleable {background-color: white;}#sk-container-id-1 label.sk-toggleable__label {cursor: pointer;display: block;width: 100%;margin-bottom: 0;padding: 0.3em;box-sizing: border-box;text-align: center;}#sk-container-id-1 label.sk-toggleable__label-arrow:before {content: \"▸\";float: left;margin-right: 0.25em;color: #696969;}#sk-container-id-1 label.sk-toggleable__label-arrow:hover:before {color: black;}#sk-container-id-1 div.sk-estimator:hover label.sk-toggleable__label-arrow:before {color: black;}#sk-container-id-1 div.sk-toggleable__content {max-height: 0;max-width: 0;overflow: hidden;text-align: left;background-color: #f0f8ff;}#sk-container-id-1 div.sk-toggleable__content pre {margin: 0.2em;color: black;border-radius: 0.25em;background-color: #f0f8ff;}#sk-container-id-1 input.sk-toggleable__control:checked~div.sk-toggleable__content {max-height: 200px;max-width: 100%;overflow: auto;}#sk-container-id-1 input.sk-toggleable__control:checked~label.sk-toggleable__label-arrow:before {content: \"▾\";}#sk-container-id-1 div.sk-estimator input.sk-toggleable__control:checked~label.sk-toggleable__label {background-color: #d4ebff;}#sk-container-id-1 div.sk-label input.sk-toggleable__control:checked~label.sk-toggleable__label {background-color: #d4ebff;}#sk-container-id-1 input.sk-hidden--visually {border: 0;clip: rect(1px 1px 1px 1px);clip: rect(1px, 1px, 1px, 1px);height: 1px;margin: -1px;overflow: hidden;padding: 0;position: absolute;width: 1px;}#sk-container-id-1 div.sk-estimator {font-family: monospace;background-color: #f0f8ff;border: 1px dotted black;border-radius: 0.25em;box-sizing: border-box;margin-bottom: 0.5em;}#sk-container-id-1 div.sk-estimator:hover {background-color: #d4ebff;}#sk-container-id-1 div.sk-parallel-item::after {content: \"\";width: 100%;border-bottom: 1px solid gray;flex-grow: 1;}#sk-container-id-1 div.sk-label:hover label.sk-toggleable__label {background-color: #d4ebff;}#sk-container-id-1 div.sk-serial::before {content: \"\";position: absolute;border-left: 1px solid gray;box-sizing: border-box;top: 0;bottom: 0;left: 50%;z-index: 0;}#sk-container-id-1 div.sk-serial {display: flex;flex-direction: column;align-items: center;background-color: white;padding-right: 0.2em;padding-left: 0.2em;position: relative;}#sk-container-id-1 div.sk-item {position: relative;z-index: 1;}#sk-container-id-1 div.sk-parallel {display: flex;align-items: stretch;justify-content: center;background-color: white;position: relative;}#sk-container-id-1 div.sk-item::before, #sk-container-id-1 div.sk-parallel-item::before {content: \"\";position: absolute;border-left: 1px solid gray;box-sizing: border-box;top: 0;bottom: 0;left: 50%;z-index: -1;}#sk-container-id-1 div.sk-parallel-item {display: flex;flex-direction: column;z-index: 1;position: relative;background-color: white;}#sk-container-id-1 div.sk-parallel-item:first-child::after {align-self: flex-end;width: 50%;}#sk-container-id-1 div.sk-parallel-item:last-child::after {align-self: flex-start;width: 50%;}#sk-container-id-1 div.sk-parallel-item:only-child::after {width: 0;}#sk-container-id-1 div.sk-dashed-wrapped {border: 1px dashed gray;margin: 0 0.4em 0.5em 0.4em;box-sizing: border-box;padding-bottom: 0.4em;background-color: white;}#sk-container-id-1 div.sk-label label {font-family: monospace;font-weight: bold;display: inline-block;line-height: 1.2em;}#sk-container-id-1 div.sk-label-container {text-align: center;}#sk-container-id-1 div.sk-container {/* jupyter's `normalize.less` sets `[hidden] { display: none; }` but bootstrap.min.css set `[hidden] { display: none !important; }` so we also need the `!important` here to be able to override the default hidden behavior on the sphinx rendered scikit-learn.org. See: https://github.com/scikit-learn/scikit-learn/issues/21755 */display: inline-block !important;position: relative;}#sk-container-id-1 div.sk-text-repr-fallback {display: none;}</style><div id=\"sk-container-id-1\" class=\"sk-top-container\"><div class=\"sk-text-repr-fallback\"><pre>GridSearchCV(estimator=BayesianRidge(), param_grid={&#x27;n_iter&#x27;: [200, 300, 400]})</pre><b>In a Jupyter environment, please rerun this cell to show the HTML representation or trust the notebook. <br />On GitHub, the HTML representation is unable to render, please try loading this page with nbviewer.org.</b></div><div class=\"sk-container\" hidden><div class=\"sk-item sk-dashed-wrapped\"><div class=\"sk-label-container\"><div class=\"sk-label sk-toggleable\"><input class=\"sk-toggleable__control sk-hidden--visually\" id=\"sk-estimator-id-1\" type=\"checkbox\" ><label for=\"sk-estimator-id-1\" class=\"sk-toggleable__label sk-toggleable__label-arrow\">GridSearchCV</label><div class=\"sk-toggleable__content\"><pre>GridSearchCV(estimator=BayesianRidge(), param_grid={&#x27;n_iter&#x27;: [200, 300, 400]})</pre></div></div></div><div class=\"sk-parallel\"><div class=\"sk-parallel-item\"><div class=\"sk-item\"><div class=\"sk-label-container\"><div class=\"sk-label sk-toggleable\"><input class=\"sk-toggleable__control sk-hidden--visually\" id=\"sk-estimator-id-2\" type=\"checkbox\" ><label for=\"sk-estimator-id-2\" class=\"sk-toggleable__label sk-toggleable__label-arrow\">estimator: BayesianRidge</label><div class=\"sk-toggleable__content\"><pre>BayesianRidge()</pre></div></div></div><div class=\"sk-serial\"><div class=\"sk-item\"><div class=\"sk-estimator sk-toggleable\"><input class=\"sk-toggleable__control sk-hidden--visually\" id=\"sk-estimator-id-3\" type=\"checkbox\" ><label for=\"sk-estimator-id-3\" class=\"sk-toggleable__label sk-toggleable__label-arrow\">BayesianRidge</label><div class=\"sk-toggleable__content\"><pre>BayesianRidge()</pre></div></div></div></div></div></div></div></div></div></div>"
            ]
          },
          "metadata": {},
          "execution_count": 25
        }
      ]
    },
    {
      "cell_type": "code",
      "source": [
        "gs.best_params_"
      ],
      "metadata": {
        "id": "ttF_UXLMs2C7",
        "colab": {
          "base_uri": "https://localhost:8080/"
        },
        "outputId": "b03a3a2c-3e07-4cff-d346-5183a3d806ee"
      },
      "execution_count": null,
      "outputs": [
        {
          "output_type": "execute_result",
          "data": {
            "text/plain": [
              "{'n_iter': 200}"
            ]
          },
          "metadata": {},
          "execution_count": 26
        }
      ]
    },
    {
      "cell_type": "markdown",
      "source": [
        "##### Validation for BayesianRidge"
      ],
      "metadata": {
        "id": "M6sbLTPGyQwC"
      }
    },
    {
      "cell_type": "code",
      "source": [
        "model = BayesianRidge(n_iter= 200)\n",
        "model.fit(X_train, y_train)\n",
        "y_pred = model.predict(X_val)\n",
        "print(f'MSE: {mean_squared_error(y_val, y_pred):.3f},\\\n",
        "  MAPE: {(mean_absolute_percentage_error(y_val, y_pred)):.3f}')"
      ],
      "metadata": {
        "colab": {
          "base_uri": "https://localhost:8080/"
        },
        "id": "ahH1QrmV937j",
        "outputId": "9296def6-de4d-4b2e-8e5c-affe4262b01c"
      },
      "execution_count": null,
      "outputs": [
        {
          "output_type": "stream",
          "name": "stdout",
          "text": [
            "MSE: 3.800,  MAPE: 0.014\n"
          ]
        }
      ]
    },
    {
      "cell_type": "code",
      "source": [
        "model = KNeighborsRegressor()\n",
        "model.fit(X_train, y_train)\n",
        "y_pred = model.predict(X_val)\n",
        "print(f'MSE: {mean_squared_error(y_val, y_pred):.3f},\\\n",
        "  MAPE: {(mean_absolute_percentage_error(y_val, y_pred)):.3f}')"
      ],
      "metadata": {
        "colab": {
          "base_uri": "https://localhost:8080/"
        },
        "id": "_2GtfjmPR5Y_",
        "outputId": "b5181212-e94a-49c1-eabe-c60803c253ad"
      },
      "execution_count": null,
      "outputs": [
        {
          "output_type": "stream",
          "name": "stdout",
          "text": [
            "MSE: 4.520,  MAPE: 0.015\n"
          ]
        }
      ]
    },
    {
      "cell_type": "markdown",
      "source": [
        "Plot for BayesianRidge"
      ],
      "metadata": {
        "id": "VW4Dr0wH3vDX"
      }
    },
    {
      "cell_type": "code",
      "source": [
        "plot_correlation(y_val, y_pred)"
      ],
      "metadata": {
        "colab": {
          "base_uri": "https://localhost:8080/",
          "height": 604
        },
        "id": "kls_BiN93y9n",
        "outputId": "a5d9b43f-c746-43d6-f05e-a1b0a6a8a308"
      },
      "execution_count": null,
      "outputs": [
        {
          "output_type": "display_data",
          "data": {
            "text/plain": [
              "<Figure size 800x600 with 2 Axes>"
            ],
            "image/png": "[encoded data removed]"
          },
          "metadata": {}
        },
        {
          "output_type": "stream",
          "name": "stdout",
          "text": [
            "Correlation Coefficient: 0.3581\n"
          ]
        }
      ]
    },
    {
      "cell_type": "code",
      "source": [
        "model = ElasticNet()\n",
        "model.fit(X_train, y_train)\n",
        "y_pred = model.predict(X_val)\n",
        "print(f'MSE: {mean_squared_error(y_val, y_pred):.3f},\\\n",
        "  MAPE: {(mean_absolute_percentage_error(y_val, y_pred))*100:.3f}%')"
      ],
      "metadata": {
        "colab": {
          "base_uri": "https://localhost:8080/"
        },
        "id": "k1b7fCo4uqrd",
        "outputId": "0d2ee9d7-f944-4b0f-cbea-c011ce6471d6"
      },
      "execution_count": null,
      "outputs": [
        {
          "output_type": "stream",
          "name": "stdout",
          "text": [
            "MSE: 4.672,  MAPE: 1.872%\n"
          ]
        }
      ]
    },
    {
      "cell_type": "code",
      "source": [
        "hyperparams = {\n",
        "    'n_iter': [200, 300, 400],\n",
        "}\n",
        "\n",
        "alg = BayesianRidge()\n",
        "\n",
        "gs = GridSearchCV(alg, hyperparams)\n",
        "\n",
        "gs.fit(X_train, y_train)"
      ],
      "metadata": {
        "id": "WIsRbsC5M8n3"
      },
      "execution_count": null,
      "outputs": []
    },
    {
      "cell_type": "markdown",
      "source": [
        "### Block 2"
      ],
      "metadata": {
        "id": "QxRnxSjji-hJ"
      }
    },
    {
      "cell_type": "markdown",
      "source": [
        "#### cpii"
      ],
      "metadata": {
        "id": "X2MSJOHgxHAF"
      }
    },
    {
      "cell_type": "code",
      "source": [
        "block_2_inputs = df_cpii[['total_feed_ton/h_pv', 'fly_ash_1_ton/h_pv', 'fly_ash_2_ton/h_pv', 'main_fan_speed_rpm_pv', 'shifted_separator_speed', 'grinding_pressure_bar_pv', 'mill_injection_water_m3/h_pv', 'bucket_elv_mtr_pwr_kw_pv']].fillna(df_cpii[['total_feed_ton/h_pv', 'fly_ash_1_ton/h_pv', 'fly_ash_2_ton/h_pv', 'main_fan_speed_rpm_pv', 'shifted_separator_speed', 'grinding_pressure_bar_pv', 'mill_injection_water_m3/h_pv', 'bucket_elv_mtr_pwr_kw_pv']].mean())\n",
        "block_2_output = df_cpii['mill_dp_mbar_pv']"
      ],
      "metadata": {
        "id": "Hbr2doFwfD7Z"
      },
      "execution_count": null,
      "outputs": []
    },
    {
      "cell_type": "code",
      "source": [
        "X = block_2_inputs\n",
        "y = block_2_output"
      ],
      "metadata": {
        "id": "KgnlQui5xLjB"
      },
      "execution_count": null,
      "outputs": []
    },
    {
      "cell_type": "code",
      "source": [
        " #X_train, X_test, y_train, y_test = train_test_split(X, y, test_size=0.2)\n",
        " # Extracting the last 10 rows for y_test\n",
        "X_test = X.iloc[-10:]\n",
        "y_test = y.iloc[-10:]\n",
        "\n",
        "# Extracting the rest of the data for x_train\n",
        "X_train = X.iloc[:-10]\n",
        "y_train = y.iloc[:-10]\n",
        "\n",
        "# Splitting x_train into x_train and x_val\n",
        "X_train, X_val, y_train, y_val = train_test_split(X_train, y_train, test_size=0.2, shuffle=False)"
      ],
      "metadata": {
        "id": "KeYsn3L1EBSa"
      },
      "execution_count": null,
      "outputs": []
    },
    {
      "cell_type": "code",
      "source": [
        "regressors = {\n",
        "    'Dummy': DummyRegressor(),\n",
        "    'BayesianRidge': BayesianRidge(),\n",
        "    'XGB': XGBRegressor(),\n",
        "    'RandomForestRegressor': RandomForestRegressor(),\n",
        "    'LinearRegression': LinearRegression(),\n",
        "    'Ridge': Ridge(),\n",
        "    'KNeighborsRegressor': KNeighborsRegressor(),\n",
        "    'ElasticNet': ElasticNet(),\n",
        "    'Lasso': Lasso()\n",
        "}\n",
        "\n",
        "\n",
        "for name, model in regressors.items():\n",
        "    model.fit(X_train, y_train)\n",
        "    y_pred = model.predict(X_test)\n",
        "    print(f'{name : >20} - MSE: {mean_squared_error(y_test, y_pred):.3f},\\\n",
        "     MAPE: {(mean_absolute_percentage_error(y_test, y_pred))*100:.3f}%')"
      ],
      "metadata": {
        "colab": {
          "base_uri": "https://localhost:8080/"
        },
        "id": "MUP-XU3zEDgp",
        "outputId": "a9c37841-3ce8-4f06-cfb5-4179fd37db20"
      },
      "execution_count": null,
      "outputs": [
        {
          "output_type": "stream",
          "name": "stdout",
          "text": [
            "               Dummy - MSE: 51.781,     MAPE: 20.358%\n",
            "       BayesianRidge - MSE: 84.550,     MAPE: 24.434%\n",
            "                 XGB - MSE: 11.909,     MAPE: 8.483%\n",
            "RandomForestRegressor - MSE: 12.216,     MAPE: 9.251%\n",
            "    LinearRegression - MSE: 84.559,     MAPE: 24.437%\n",
            "               Ridge - MSE: 84.559,     MAPE: 24.437%\n",
            " KNeighborsRegressor - MSE: 60.205,     MAPE: 18.156%\n",
            "          ElasticNet - MSE: 92.316,     MAPE: 24.643%\n",
            "               Lasso - MSE: 91.860,     MAPE: 24.555%\n"
          ]
        }
      ]
    },
    {
      "cell_type": "code",
      "source": [
        "hyperparams = {\n",
        "    'n_estimators': [50, 100, 150],\n",
        "}\n",
        "\n",
        "alg = RandomForestRegressor()\n",
        "\n",
        "gs = GridSearchCV(alg, hyperparams)\n",
        "\n",
        "gs.fit(X_train, y_train)"
      ],
      "metadata": {
        "id": "MxbQJkJlFCfb",
        "colab": {
          "base_uri": "https://localhost:8080/",
          "height": 118
        },
        "outputId": "2679bb3c-7046-4059-ccb7-3612dbb9f08c"
      },
      "execution_count": null,
      "outputs": [
        {
          "output_type": "execute_result",
          "data": {
            "text/plain": [
              "GridSearchCV(estimator=RandomForestRegressor(),\n",
              "             param_grid={'n_estimators': [50, 100, 150]})"
            ],
            "text/html": [
              "<style>#sk-container-id-4 {color: black;background-color: white;}#sk-container-id-4 pre{padding: 0;}#sk-container-id-4 div.sk-toggleable {background-color: white;}#sk-container-id-4 label.sk-toggleable__label {cursor: pointer;display: block;width: 100%;margin-bottom: 0;padding: 0.3em;box-sizing: border-box;text-align: center;}#sk-container-id-4 label.sk-toggleable__label-arrow:before {content: \"▸\";float: left;margin-right: 0.25em;color: #696969;}#sk-container-id-4 label.sk-toggleable__label-arrow:hover:before {color: black;}#sk-container-id-4 div.sk-estimator:hover label.sk-toggleable__label-arrow:before {color: black;}#sk-container-id-4 div.sk-toggleable__content {max-height: 0;max-width: 0;overflow: hidden;text-align: left;background-color: #f0f8ff;}#sk-container-id-4 div.sk-toggleable__content pre {margin: 0.2em;color: black;border-radius: 0.25em;background-color: #f0f8ff;}#sk-container-id-4 input.sk-toggleable__control:checked~div.sk-toggleable__content {max-height: 200px;max-width: 100%;overflow: auto;}#sk-container-id-4 input.sk-toggleable__control:checked~label.sk-toggleable__label-arrow:before {content: \"▾\";}#sk-container-id-4 div.sk-estimator input.sk-toggleable__control:checked~label.sk-toggleable__label {background-color: #d4ebff;}#sk-container-id-4 div.sk-label input.sk-toggleable__control:checked~label.sk-toggleable__label {background-color: #d4ebff;}#sk-container-id-4 input.sk-hidden--visually {border: 0;clip: rect(1px 1px 1px 1px);clip: rect(1px, 1px, 1px, 1px);height: 1px;margin: -1px;overflow: hidden;padding: 0;position: absolute;width: 1px;}#sk-container-id-4 div.sk-estimator {font-family: monospace;background-color: #f0f8ff;border: 1px dotted black;border-radius: 0.25em;box-sizing: border-box;margin-bottom: 0.5em;}#sk-container-id-4 div.sk-estimator:hover {background-color: #d4ebff;}#sk-container-id-4 div.sk-parallel-item::after {content: \"\";width: 100%;border-bottom: 1px solid gray;flex-grow: 1;}#sk-container-id-4 div.sk-label:hover label.sk-toggleable__label {background-color: #d4ebff;}#sk-container-id-4 div.sk-serial::before {content: \"\";position: absolute;border-left: 1px solid gray;box-sizing: border-box;top: 0;bottom: 0;left: 50%;z-index: 0;}#sk-container-id-4 div.sk-serial {display: flex;flex-direction: column;align-items: center;background-color: white;padding-right: 0.2em;padding-left: 0.2em;position: relative;}#sk-container-id-4 div.sk-item {position: relative;z-index: 1;}#sk-container-id-4 div.sk-parallel {display: flex;align-items: stretch;justify-content: center;background-color: white;position: relative;}#sk-container-id-4 div.sk-item::before, #sk-container-id-4 div.sk-parallel-item::before {content: \"\";position: absolute;border-left: 1px solid gray;box-sizing: border-box;top: 0;bottom: 0;left: 50%;z-index: -1;}#sk-container-id-4 div.sk-parallel-item {display: flex;flex-direction: column;z-index: 1;position: relative;background-color: white;}#sk-container-id-4 div.sk-parallel-item:first-child::after {align-self: flex-end;width: 50%;}#sk-container-id-4 div.sk-parallel-item:last-child::after {align-self: flex-start;width: 50%;}#sk-container-id-4 div.sk-parallel-item:only-child::after {width: 0;}#sk-container-id-4 div.sk-dashed-wrapped {border: 1px dashed gray;margin: 0 0.4em 0.5em 0.4em;box-sizing: border-box;padding-bottom: 0.4em;background-color: white;}#sk-container-id-4 div.sk-label label {font-family: monospace;font-weight: bold;display: inline-block;line-height: 1.2em;}#sk-container-id-4 div.sk-label-container {text-align: center;}#sk-container-id-4 div.sk-container {/* jupyter's `normalize.less` sets `[hidden] { display: none; }` but bootstrap.min.css set `[hidden] { display: none !important; }` so we also need the `!important` here to be able to override the default hidden behavior on the sphinx rendered scikit-learn.org. See: https://github.com/scikit-learn/scikit-learn/issues/21755 */display: inline-block !important;position: relative;}#sk-container-id-4 div.sk-text-repr-fallback {display: none;}</style><div id=\"sk-container-id-4\" class=\"sk-top-container\"><div class=\"sk-text-repr-fallback\"><pre>GridSearchCV(estimator=RandomForestRegressor(),\n",
              "             param_grid={&#x27;n_estimators&#x27;: [50, 100, 150]})</pre><b>In a Jupyter environment, please rerun this cell to show the HTML representation or trust the notebook. <br />On GitHub, the HTML representation is unable to render, please try loading this page with nbviewer.org.</b></div><div class=\"sk-container\" hidden><div class=\"sk-item sk-dashed-wrapped\"><div class=\"sk-label-container\"><div class=\"sk-label sk-toggleable\"><input class=\"sk-toggleable__control sk-hidden--visually\" id=\"sk-estimator-id-10\" type=\"checkbox\" ><label for=\"sk-estimator-id-10\" class=\"sk-toggleable__label sk-toggleable__label-arrow\">GridSearchCV</label><div class=\"sk-toggleable__content\"><pre>GridSearchCV(estimator=RandomForestRegressor(),\n",
              "             param_grid={&#x27;n_estimators&#x27;: [50, 100, 150]})</pre></div></div></div><div class=\"sk-parallel\"><div class=\"sk-parallel-item\"><div class=\"sk-item\"><div class=\"sk-label-container\"><div class=\"sk-label sk-toggleable\"><input class=\"sk-toggleable__control sk-hidden--visually\" id=\"sk-estimator-id-11\" type=\"checkbox\" ><label for=\"sk-estimator-id-11\" class=\"sk-toggleable__label sk-toggleable__label-arrow\">estimator: RandomForestRegressor</label><div class=\"sk-toggleable__content\"><pre>RandomForestRegressor()</pre></div></div></div><div class=\"sk-serial\"><div class=\"sk-item\"><div class=\"sk-estimator sk-toggleable\"><input class=\"sk-toggleable__control sk-hidden--visually\" id=\"sk-estimator-id-12\" type=\"checkbox\" ><label for=\"sk-estimator-id-12\" class=\"sk-toggleable__label sk-toggleable__label-arrow\">RandomForestRegressor</label><div class=\"sk-toggleable__content\"><pre>RandomForestRegressor()</pre></div></div></div></div></div></div></div></div></div></div>"
            ]
          },
          "metadata": {},
          "execution_count": 47
        }
      ]
    },
    {
      "cell_type": "code",
      "source": [
        "gs.best_params_"
      ],
      "metadata": {
        "colab": {
          "base_uri": "https://localhost:8080/"
        },
        "id": "FDeZ-hjYnkJr",
        "outputId": "02ce9e63-ce70-4cd1-cd0b-f3b16c5fa6f3"
      },
      "execution_count": null,
      "outputs": [
        {
          "output_type": "execute_result",
          "data": {
            "text/plain": [
              "{'n_estimators': 50}"
            ]
          },
          "metadata": {},
          "execution_count": 48
        }
      ]
    },
    {
      "cell_type": "markdown",
      "source": [
        "##### Validation for RandomForestRegressor"
      ],
      "metadata": {
        "id": "b6_peBH6yV3M"
      }
    },
    {
      "cell_type": "code",
      "source": [
        "model = RandomForestRegressor(n_estimators= 50)\n",
        "model.fit(X_train, y_train)\n",
        "y_pred = model.predict(X_val)\n",
        "print(f'MSE: {mean_squared_error(y_val, y_pred):.3f},\\\n",
        "  MAPE: {(mean_absolute_percentage_error(y_val, y_pred))*100:.3f}%')"
      ],
      "metadata": {
        "colab": {
          "base_uri": "https://localhost:8080/"
        },
        "id": "YhaC0w0inoYS",
        "outputId": "3f9beef9-33e5-4e58-8f5c-11bc9380bcaf"
      },
      "execution_count": null,
      "outputs": [
        {
          "output_type": "stream",
          "name": "stdout",
          "text": [
            "MSE: 13.003,  MAPE: 10.548%\n"
          ]
        }
      ]
    },
    {
      "cell_type": "markdown",
      "source": [
        "Plot for RandomForest"
      ],
      "metadata": {
        "id": "T4K0DEBJ4GRK"
      }
    },
    {
      "cell_type": "code",
      "source": [
        "plot_correlation(y_val, y_pred)"
      ],
      "metadata": {
        "colab": {
          "base_uri": "https://localhost:8080/",
          "height": 604
        },
        "id": "j1eAROFz4J_P",
        "outputId": "e976b462-0987-4f87-db43-4855d8811deb"
      },
      "execution_count": null,
      "outputs": [
        {
          "output_type": "display_data",
          "data": {
            "text/plain": [
              "<Figure size 800x600 with 2 Axes>"
            ],
            "image/png": "[encoded data removed]"
          },
          "metadata": {}
        },
        {
          "output_type": "stream",
          "name": "stdout",
          "text": [
            "Correlation Coefficient: 0.8845\n"
          ]
        }
      ]
    },
    {
      "cell_type": "markdown",
      "source": [
        "##### Validation for XGBRegressor"
      ],
      "metadata": {
        "id": "wUSd8dVnyie0"
      }
    },
    {
      "cell_type": "code",
      "source": [
        "model = XGBRegressor()\n",
        "model.fit(X_train, y_train)\n",
        "y_pred = model.predict(X_val)\n",
        "print(f'MSE: {mean_squared_error(y_val, y_pred):.3f},\\\n",
        "  MAPE: {(mean_absolute_percentage_error(y_val, y_pred))*100:.3f}%')"
      ],
      "metadata": {
        "colab": {
          "base_uri": "https://localhost:8080/"
        },
        "id": "YjmrEZOjvfGW",
        "outputId": "933bee22-7c7d-48ba-b5c3-e8128aabb3c8"
      },
      "execution_count": null,
      "outputs": [
        {
          "output_type": "stream",
          "name": "stdout",
          "text": [
            "MSE: 18.979,  MAPE: 11.850%\n"
          ]
        }
      ]
    },
    {
      "cell_type": "markdown",
      "source": [
        "#### cpiv"
      ],
      "metadata": {
        "id": "VRnhHgLMK5Vm"
      }
    },
    {
      "cell_type": "code",
      "source": [
        "block_2_inputs = df_cpiv[['total_feed_ton/h_pv', 'fly_ash_1_ton/h_pv', 'fly_ash_2_ton/h_pv', 'main_fan_speed_rpm_pv', 'shifted_separator_speed', 'grinding_pressure_bar_pv', 'mill_injection_water_m3/h_pv', 'bucket_elv_mtr_pwr_kw_pv']].fillna(df_cpiv[['total_feed_ton/h_pv', 'fly_ash_1_ton/h_pv', 'fly_ash_2_ton/h_pv', 'main_fan_speed_rpm_pv', 'shifted_separator_speed', 'grinding_pressure_bar_pv', 'mill_injection_water_m3/h_pv', 'bucket_elv_mtr_pwr_kw_pv']].mean())\n",
        "block_2_output = df_cpiv['mill_dp_mbar_pv']"
      ],
      "metadata": {
        "id": "KDUYtmNyK1Ze"
      },
      "execution_count": null,
      "outputs": []
    },
    {
      "cell_type": "code",
      "source": [
        "X = block_2_inputs\n",
        "y = block_2_output"
      ],
      "metadata": {
        "id": "MUyKt-r4LBS1"
      },
      "execution_count": null,
      "outputs": []
    },
    {
      "cell_type": "code",
      "source": [
        " #X_train, X_test, y_train, y_test = train_test_split(X, y, test_size=0.2)\n",
        "\n",
        " # Extracting the last 10 rows for y_test\n",
        "X_test = X.iloc[-10:]\n",
        "y_test = y.iloc[-10:]\n",
        "\n",
        "# Extracting the rest of the data for x_train\n",
        "X_train = X.iloc[:-10]\n",
        "y_train = y.iloc[:-10]\n",
        "\n",
        "# Splitting x_train into x_train and x_val\n",
        "X_train, X_val, y_train, y_val = train_test_split(X_train, y_train, test_size=0.2, shuffle=False)"
      ],
      "metadata": {
        "id": "i-SAVLGbLeFj"
      },
      "execution_count": null,
      "outputs": []
    },
    {
      "cell_type": "code",
      "source": [
        "regressors = {\n",
        "    'Dummy': DummyRegressor(),\n",
        "    'BayesianRidge': BayesianRidge(),\n",
        "    'XGB': XGBRegressor(),\n",
        "    'RandomForestRegressor': RandomForestRegressor(),\n",
        "    'LinearRegression': LinearRegression(),\n",
        "    'Ridge': Ridge(),\n",
        "    'KNeighborsRegressor': KNeighborsRegressor(),\n",
        "    'ElasticNet': ElasticNet(),\n",
        "    'Lasso': Lasso()\n",
        "}\n",
        "\n",
        "\n",
        "for name, model in regressors.items():\n",
        "    model.fit(X_train, y_train)\n",
        "    y_pred = model.predict(X_test)\n",
        "    print(f'{name : >20} - MSE: {mean_squared_error(y_test, y_pred):.3f},\\\n",
        "     MAPE: {(mean_absolute_percentage_error(y_test, y_pred))*100:.3f}%')"
      ],
      "metadata": {
        "colab": {
          "base_uri": "https://localhost:8080/"
        },
        "id": "0dHLeC5fLgZM",
        "outputId": "59e886de-454e-49dc-ff79-1aace6e7283a"
      },
      "execution_count": null,
      "outputs": [
        {
          "output_type": "stream",
          "name": "stdout",
          "text": [
            "               Dummy - MSE: 56.105,     MAPE: 20.386%\n",
            "       BayesianRidge - MSE: 47.526,     MAPE: 15.141%\n",
            "                 XGB - MSE: 2.378,     MAPE: 3.771%\n",
            "RandomForestRegressor - MSE: 3.915,     MAPE: 5.021%\n",
            "    LinearRegression - MSE: 47.503,     MAPE: 15.137%\n",
            "               Ridge - MSE: 47.503,     MAPE: 15.137%\n",
            " KNeighborsRegressor - MSE: 2.312,     MAPE: 3.638%\n",
            "          ElasticNet - MSE: 63.842,     MAPE: 18.460%\n",
            "               Lasso - MSE: 65.695,     MAPE: 19.319%\n"
          ]
        }
      ]
    },
    {
      "cell_type": "code",
      "source": [
        "hyperparams = {\n",
        "    'n_estimators': [100, 200, 300],\n",
        "\n",
        "}\n",
        "\n",
        "alg = XGBRegressor()\n",
        "\n",
        "gs = GridSearchCV(alg, hyperparams)\n",
        "\n",
        "gs.fit(X_train, y_train)"
      ],
      "metadata": {
        "colab": {
          "base_uri": "https://localhost:8080/",
          "height": 118
        },
        "id": "PXCArGm2LjQA",
        "outputId": "8b7d1d2c-ef08-40d5-fdad-26c8051f11b3"
      },
      "execution_count": null,
      "outputs": [
        {
          "output_type": "execute_result",
          "data": {
            "text/plain": [
              "GridSearchCV(estimator=XGBRegressor(base_score=None, booster=None,\n",
              "                                    callbacks=None, colsample_bylevel=None,\n",
              "                                    colsample_bynode=None,\n",
              "                                    colsample_bytree=None,\n",
              "                                    early_stopping_rounds=None,\n",
              "                                    enable_categorical=False, eval_metric=None,\n",
              "                                    feature_types=None, gamma=None, gpu_id=None,\n",
              "                                    grow_policy=None, importance_type=None,\n",
              "                                    interaction_constraints=None,\n",
              "                                    learning_rate=None, max_bin=None,\n",
              "                                    max_cat_threshold=None,\n",
              "                                    max_cat_to_onehot=None, max_delta_step=None,\n",
              "                                    max_depth=None, max_leaves=None,\n",
              "                                    min_child_weight=None, missing=nan,\n",
              "                                    monotone_constraints=None, n_estimators=100,\n",
              "                                    n_jobs=None, num_parallel_tree=None,\n",
              "                                    predictor=None, random_state=None, ...),\n",
              "             param_grid={'n_estimators': [100, 200, 300]})"
            ],
            "text/html": [
              "<style>#sk-container-id-5 {color: black;background-color: white;}#sk-container-id-5 pre{padding: 0;}#sk-container-id-5 div.sk-toggleable {background-color: white;}#sk-container-id-5 label.sk-toggleable__label {cursor: pointer;display: block;width: 100%;margin-bottom: 0;padding: 0.3em;box-sizing: border-box;text-align: center;}#sk-container-id-5 label.sk-toggleable__label-arrow:before {content: \"▸\";float: left;margin-right: 0.25em;color: #696969;}#sk-container-id-5 label.sk-toggleable__label-arrow:hover:before {color: black;}#sk-container-id-5 div.sk-estimator:hover label.sk-toggleable__label-arrow:before {color: black;}#sk-container-id-5 div.sk-toggleable__content {max-height: 0;max-width: 0;overflow: hidden;text-align: left;background-color: #f0f8ff;}#sk-container-id-5 div.sk-toggleable__content pre {margin: 0.2em;color: black;border-radius: 0.25em;background-color: #f0f8ff;}#sk-container-id-5 input.sk-toggleable__control:checked~div.sk-toggleable__content {max-height: 200px;max-width: 100%;overflow: auto;}#sk-container-id-5 input.sk-toggleable__control:checked~label.sk-toggleable__label-arrow:before {content: \"▾\";}#sk-container-id-5 div.sk-estimator input.sk-toggleable__control:checked~label.sk-toggleable__label {background-color: #d4ebff;}#sk-container-id-5 div.sk-label input.sk-toggleable__control:checked~label.sk-toggleable__label {background-color: #d4ebff;}#sk-container-id-5 input.sk-hidden--visually {border: 0;clip: rect(1px 1px 1px 1px);clip: rect(1px, 1px, 1px, 1px);height: 1px;margin: -1px;overflow: hidden;padding: 0;position: absolute;width: 1px;}#sk-container-id-5 div.sk-estimator {font-family: monospace;background-color: #f0f8ff;border: 1px dotted black;border-radius: 0.25em;box-sizing: border-box;margin-bottom: 0.5em;}#sk-container-id-5 div.sk-estimator:hover {background-color: #d4ebff;}#sk-container-id-5 div.sk-parallel-item::after {content: \"\";width: 100%;border-bottom: 1px solid gray;flex-grow: 1;}#sk-container-id-5 div.sk-label:hover label.sk-toggleable__label {background-color: #d4ebff;}#sk-container-id-5 div.sk-serial::before {content: \"\";position: absolute;border-left: 1px solid gray;box-sizing: border-box;top: 0;bottom: 0;left: 50%;z-index: 0;}#sk-container-id-5 div.sk-serial {display: flex;flex-direction: column;align-items: center;background-color: white;padding-right: 0.2em;padding-left: 0.2em;position: relative;}#sk-container-id-5 div.sk-item {position: relative;z-index: 1;}#sk-container-id-5 div.sk-parallel {display: flex;align-items: stretch;justify-content: center;background-color: white;position: relative;}#sk-container-id-5 div.sk-item::before, #sk-container-id-5 div.sk-parallel-item::before {content: \"\";position: absolute;border-left: 1px solid gray;box-sizing: border-box;top: 0;bottom: 0;left: 50%;z-index: -1;}#sk-container-id-5 div.sk-parallel-item {display: flex;flex-direction: column;z-index: 1;position: relative;background-color: white;}#sk-container-id-5 div.sk-parallel-item:first-child::after {align-self: flex-end;width: 50%;}#sk-container-id-5 div.sk-parallel-item:last-child::after {align-self: flex-start;width: 50%;}#sk-container-id-5 div.sk-parallel-item:only-child::after {width: 0;}#sk-container-id-5 div.sk-dashed-wrapped {border: 1px dashed gray;margin: 0 0.4em 0.5em 0.4em;box-sizing: border-box;padding-bottom: 0.4em;background-color: white;}#sk-container-id-5 div.sk-label label {font-family: monospace;font-weight: bold;display: inline-block;line-height: 1.2em;}#sk-container-id-5 div.sk-label-container {text-align: center;}#sk-container-id-5 div.sk-container {/* jupyter's `normalize.less` sets `[hidden] { display: none; }` but bootstrap.min.css set `[hidden] { display: none !important; }` so we also need the `!important` here to be able to override the default hidden behavior on the sphinx rendered scikit-learn.org. See: https://github.com/scikit-learn/scikit-learn/issues/21755 */display: inline-block !important;position: relative;}#sk-container-id-5 div.sk-text-repr-fallback {display: none;}</style><div id=\"sk-container-id-5\" class=\"sk-top-container\"><div class=\"sk-text-repr-fallback\"><pre>GridSearchCV(estimator=XGBRegressor(base_score=None, booster=None,\n",
              "                                    callbacks=None, colsample_bylevel=None,\n",
              "                                    colsample_bynode=None,\n",
              "                                    colsample_bytree=None,\n",
              "                                    early_stopping_rounds=None,\n",
              "                                    enable_categorical=False, eval_metric=None,\n",
              "                                    feature_types=None, gamma=None, gpu_id=None,\n",
              "                                    grow_policy=None, importance_type=None,\n",
              "                                    interaction_constraints=None,\n",
              "                                    learning_rate=None, max_bin=None,\n",
              "                                    max_cat_threshold=None,\n",
              "                                    max_cat_to_onehot=None, max_delta_step=None,\n",
              "                                    max_depth=None, max_leaves=None,\n",
              "                                    min_child_weight=None, missing=nan,\n",
              "                                    monotone_constraints=None, n_estimators=100,\n",
              "                                    n_jobs=None, num_parallel_tree=None,\n",
              "                                    predictor=None, random_state=None, ...),\n",
              "             param_grid={&#x27;n_estimators&#x27;: [100, 200, 300]})</pre><b>In a Jupyter environment, please rerun this cell to show the HTML representation or trust the notebook. <br />On GitHub, the HTML representation is unable to render, please try loading this page with nbviewer.org.</b></div><div class=\"sk-container\" hidden><div class=\"sk-item sk-dashed-wrapped\"><div class=\"sk-label-container\"><div class=\"sk-label sk-toggleable\"><input class=\"sk-toggleable__control sk-hidden--visually\" id=\"sk-estimator-id-13\" type=\"checkbox\" ><label for=\"sk-estimator-id-13\" class=\"sk-toggleable__label sk-toggleable__label-arrow\">GridSearchCV</label><div class=\"sk-toggleable__content\"><pre>GridSearchCV(estimator=XGBRegressor(base_score=None, booster=None,\n",
              "                                    callbacks=None, colsample_bylevel=None,\n",
              "                                    colsample_bynode=None,\n",
              "                                    colsample_bytree=None,\n",
              "                                    early_stopping_rounds=None,\n",
              "                                    enable_categorical=False, eval_metric=None,\n",
              "                                    feature_types=None, gamma=None, gpu_id=None,\n",
              "                                    grow_policy=None, importance_type=None,\n",
              "                                    interaction_constraints=None,\n",
              "                                    learning_rate=None, max_bin=None,\n",
              "                                    max_cat_threshold=None,\n",
              "                                    max_cat_to_onehot=None, max_delta_step=None,\n",
              "                                    max_depth=None, max_leaves=None,\n",
              "                                    min_child_weight=None, missing=nan,\n",
              "                                    monotone_constraints=None, n_estimators=100,\n",
              "                                    n_jobs=None, num_parallel_tree=None,\n",
              "                                    predictor=None, random_state=None, ...),\n",
              "             param_grid={&#x27;n_estimators&#x27;: [100, 200, 300]})</pre></div></div></div><div class=\"sk-parallel\"><div class=\"sk-parallel-item\"><div class=\"sk-item\"><div class=\"sk-label-container\"><div class=\"sk-label sk-toggleable\"><input class=\"sk-toggleable__control sk-hidden--visually\" id=\"sk-estimator-id-14\" type=\"checkbox\" ><label for=\"sk-estimator-id-14\" class=\"sk-toggleable__label sk-toggleable__label-arrow\">estimator: XGBRegressor</label><div class=\"sk-toggleable__content\"><pre>XGBRegressor(base_score=None, booster=None, callbacks=None,\n",
              "             colsample_bylevel=None, colsample_bynode=None,\n",
              "             colsample_bytree=None, early_stopping_rounds=None,\n",
              "             enable_categorical=False, eval_metric=None, feature_types=None,\n",
              "             gamma=None, gpu_id=None, grow_policy=None, importance_type=None,\n",
              "             interaction_constraints=None, learning_rate=None, max_bin=None,\n",
              "             max_cat_threshold=None, max_cat_to_onehot=None,\n",
              "             max_delta_step=None, max_depth=None, max_leaves=None,\n",
              "             min_child_weight=None, missing=nan, monotone_constraints=None,\n",
              "             n_estimators=100, n_jobs=None, num_parallel_tree=None,\n",
              "             predictor=None, random_state=None, ...)</pre></div></div></div><div class=\"sk-serial\"><div class=\"sk-item\"><div class=\"sk-estimator sk-toggleable\"><input class=\"sk-toggleable__control sk-hidden--visually\" id=\"sk-estimator-id-15\" type=\"checkbox\" ><label for=\"sk-estimator-id-15\" class=\"sk-toggleable__label sk-toggleable__label-arrow\">XGBRegressor</label><div class=\"sk-toggleable__content\"><pre>XGBRegressor(base_score=None, booster=None, callbacks=None,\n",
              "             colsample_bylevel=None, colsample_bynode=None,\n",
              "             colsample_bytree=None, early_stopping_rounds=None,\n",
              "             enable_categorical=False, eval_metric=None, feature_types=None,\n",
              "             gamma=None, gpu_id=None, grow_policy=None, importance_type=None,\n",
              "             interaction_constraints=None, learning_rate=None, max_bin=None,\n",
              "             max_cat_threshold=None, max_cat_to_onehot=None,\n",
              "             max_delta_step=None, max_depth=None, max_leaves=None,\n",
              "             min_child_weight=None, missing=nan, monotone_constraints=None,\n",
              "             n_estimators=100, n_jobs=None, num_parallel_tree=None,\n",
              "             predictor=None, random_state=None, ...)</pre></div></div></div></div></div></div></div></div></div></div>"
            ]
          },
          "metadata": {},
          "execution_count": 55
        }
      ]
    },
    {
      "cell_type": "code",
      "source": [
        "gs.best_params_"
      ],
      "metadata": {
        "id": "ycok2ngrMXpz",
        "colab": {
          "base_uri": "https://localhost:8080/"
        },
        "outputId": "e3cd360c-b2f3-493e-e3d2-b7dc4c447320"
      },
      "execution_count": null,
      "outputs": [
        {
          "output_type": "execute_result",
          "data": {
            "text/plain": [
              "{'n_estimators': 100}"
            ]
          },
          "metadata": {},
          "execution_count": 56
        }
      ]
    },
    {
      "cell_type": "markdown",
      "source": [
        "##### Validation for XGBRegressor"
      ],
      "metadata": {
        "id": "DFJmBP5Dy0ab"
      }
    },
    {
      "cell_type": "code",
      "source": [
        "model = XGBRegressor(n_estimators= 100)\n",
        "model.fit(X_train, y_train)\n",
        "y_pred = model.predict(X_val)\n",
        "print(f'MSE: {mean_squared_error(y_val, y_pred):.3f},\\\n",
        "  MAPE: {(mean_absolute_percentage_error(y_val, y_pred))*100:.3f}%')"
      ],
      "metadata": {
        "colab": {
          "base_uri": "https://localhost:8080/"
        },
        "id": "bEzg4mJTre4a",
        "outputId": "07b55a4b-824a-4a13-e899-63317ff049c9"
      },
      "execution_count": null,
      "outputs": [
        {
          "output_type": "stream",
          "name": "stdout",
          "text": [
            "MSE: 6.497,  MAPE: 10.096%\n"
          ]
        }
      ]
    },
    {
      "cell_type": "markdown",
      "source": [
        "Plot for XGBRegressor"
      ],
      "metadata": {
        "id": "ekFoM3FR5SSH"
      }
    },
    {
      "cell_type": "code",
      "source": [
        "plot_correlation(y_val, y_pred)"
      ],
      "metadata": {
        "colab": {
          "base_uri": "https://localhost:8080/",
          "height": 604
        },
        "id": "96HjVenC5Rt0",
        "outputId": "902eb1b7-92e2-46b1-e62b-9520e54dc54b"
      },
      "execution_count": null,
      "outputs": [
        {
          "output_type": "display_data",
          "data": {
            "text/plain": [
              "<Figure size 800x600 with 2 Axes>"
            ],
            "image/png": "[encoded data removed]"
          },
          "metadata": {}
        },
        {
          "output_type": "stream",
          "name": "stdout",
          "text": [
            "Correlation Coefficient: 0.9622\n"
          ]
        }
      ]
    },
    {
      "cell_type": "markdown",
      "source": [
        "##### Validation for XGBRegressor"
      ],
      "metadata": {
        "id": "xXMirSD8y2b-"
      }
    },
    {
      "cell_type": "code",
      "source": [
        "model = KNeighborsRegressor()\n",
        "model.fit(X_train, y_train)\n",
        "y_pred = model.predict(X_val)\n",
        "print(f'MSE: {mean_squared_error(y_val, y_pred):.3f},\\\n",
        "  MAPE: {(mean_absolute_percentage_error(y_val, y_pred))*100:.3f}%')"
      ],
      "metadata": {
        "colab": {
          "base_uri": "https://localhost:8080/"
        },
        "id": "1t9HmsegxBY-",
        "outputId": "16bc055c-5d70-47ec-a64e-73ec45f303c8"
      },
      "execution_count": null,
      "outputs": [
        {
          "output_type": "stream",
          "name": "stdout",
          "text": [
            "MSE: 8.293,  MAPE: 10.399%\n"
          ]
        }
      ]
    },
    {
      "cell_type": "markdown",
      "source": [
        "# This was the end ..... at least we still dont know how to code .... but we know each other and we had fun .....\n"
      ],
      "metadata": {
        "id": "CoPUFNLfVnNK"
      }
    }
  ],
  "metadata": {
    "kernelspec": {
      "display_name": "Python 3",
      "language": "python",
      "name": "python3"
    },
    "language_info": {
      "codemirror_mode": {
        "name": "ipython",
        "version": 3
      },
      "file_extension": ".py",
      "mimetype": "text/x-python",
      "name": "python",
      "nbconvert_exporter": "python",
      "pygments_lexer": "ipython3",
      "version": "3.10.6"
    },
    "orig_nbformat": 4,
    "colab": {
      "provenance": [],
      "collapsed_sections": [
        "Q97fcK9ZVn5U",
        "_nntWzpIVn5d",
        "778NF6AbVn52",
        "_7lWuhfZVn6Q"
      ]
    }
  },
  "nbformat": 4,
  "nbformat_minor": 0
}